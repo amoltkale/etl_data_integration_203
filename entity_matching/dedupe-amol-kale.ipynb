{
 "cells": [
  {
   "cell_type": "markdown",
   "id": "fae30b2c-75b3-4c02-96db-e5fbf552bcdf",
   "metadata": {},
   "source": [
    "### Question 2: Dedupe"
   ]
  },
  {
   "cell_type": "code",
   "execution_count": 1,
   "id": "cf494360-4016-448d-9e0f-876c906b09e2",
   "metadata": {},
   "outputs": [],
   "source": [
    "#!pip install dedupe"
   ]
  },
  {
   "cell_type": "code",
   "execution_count": 2,
   "id": "902bc7be-79e3-404c-8b7d-15005698de05",
   "metadata": {},
   "outputs": [],
   "source": [
    "#!pip install numpy --upgrade\n",
    "#!pip install unidecode"
   ]
  },
  {
   "cell_type": "code",
   "execution_count": 3,
   "id": "0e6fcbf6-f31e-45ab-ba5b-053d6b8ed8f4",
   "metadata": {},
   "outputs": [
    {
     "name": "stderr",
     "output_type": "stream",
     "text": [
      "/Users/a973983/opt/anaconda3/lib/python3.8/site-packages/scipy/__init__.py:138: UserWarning: A NumPy version >=1.16.5 and <1.23.0 is required for this version of SciPy (detected version 1.23.4)\n",
      "  warnings.warn(f\"A NumPy version >={np_minversion} and <{np_maxversion} is required for this version of \"\n"
     ]
    }
   ],
   "source": [
    "import os\n",
    "import csv\n",
    "import re\n",
    "import logging\n",
    "import optparse\n",
    "import py_entitymatching as em\n",
    "import dedupe\n",
    "import numpy\n",
    "from unidecode import unidecode\n",
    "import pandas as pd"
   ]
  },
  {
   "cell_type": "code",
   "execution_count": 4,
   "id": "91b9cf7d-34fc-4c13-bdf4-a0e70e4d68ca",
   "metadata": {},
   "outputs": [
    {
     "data": {
      "text/plain": [
       "'1.23.4'"
      ]
     },
     "execution_count": 4,
     "metadata": {},
     "output_type": "execute_result"
    }
   ],
   "source": [
    "numpy.__version__"
   ]
  },
  {
   "cell_type": "code",
   "execution_count": 5,
   "id": "d87ab5a4-8a2f-4ceb-85bf-52504aedaae1",
   "metadata": {},
   "outputs": [],
   "source": [
    "def readData(filename):\n",
    "    \"\"\"\n",
    "    Read in our data from a CSV file and create a dictionary of records,\n",
    "    where the key is a unique record ID and each value is dict\n",
    "    \"\"\"\n",
    "\n",
    "    data_d = {}\n",
    "    with open(filename) as f:\n",
    "        reader = csv.DictReader(f)\n",
    "        for row in reader:\n",
    "            clean_row = [(k, preProcess(v)) for (k, v) in row.items()]\n",
    "            row_id = int(row['rec_id'])\n",
    "            data_d[row_id] = dict(clean_row)\n",
    "\n",
    "    return data_d"
   ]
  },
  {
   "cell_type": "code",
   "execution_count": 6,
   "id": "d1c93780-bf19-434f-a47e-ef7be57794cf",
   "metadata": {},
   "outputs": [],
   "source": [
    "def preProcess(column):\n",
    "    \"\"\"\n",
    "    Do a little bit of data cleaning with the help of Unidecode and Regex.\n",
    "    Things like casing, extra spaces, quotes and new lines can be ignored.\n",
    "    \"\"\"\n",
    "    column = unidecode(column)\n",
    "    column = re.sub('  +', ' ', column)\n",
    "    column = re.sub('\\n', ' ', column)\n",
    "    column = column.strip().strip('\"').strip(\"'\").lower().strip()\n",
    "    # If data is missing, indicate that by setting the value to `None`\n",
    "    if not column:\n",
    "        column = None\n",
    "    return column"
   ]
  },
  {
   "cell_type": "code",
   "execution_count": 7,
   "id": "115c9678-ef40-4069-92fa-d6bfce30b520",
   "metadata": {},
   "outputs": [],
   "source": [
    "input_file = 'people.csv' \n",
    "data_d = readData(input_file)"
   ]
  },
  {
   "cell_type": "code",
   "execution_count": 8,
   "id": "26038143-e2a6-4752-8cba-e635f1f6abcc",
   "metadata": {},
   "outputs": [
    {
     "data": {
      "text/plain": [
       "{'rec_id': '1',\n",
       " ' given_name': 'mitchell',\n",
       " ' surname': 'green',\n",
       " ' street_number': '7',\n",
       " ' address_1': 'wallaby place',\n",
       " ' address_2': 'delmar',\n",
       " ' suburb': 'cleveland',\n",
       " ' postcode': '2119',\n",
       " ' state': 'sa',\n",
       " ' date_of_birth': '19560409'}"
      ]
     },
     "execution_count": 8,
     "metadata": {},
     "output_type": "execute_result"
    }
   ],
   "source": [
    "#Checking the schema\n",
    "data_d[1]"
   ]
  },
  {
   "cell_type": "code",
   "execution_count": 9,
   "id": "f1f0e534-13ef-4b75-978c-fda6a7e3a2e4",
   "metadata": {},
   "outputs": [],
   "source": [
    "training_file = 'people_training.json'\n",
    "settings_file = 'people_learned_settings'\n",
    "output_file = 'dedupe.csv'"
   ]
  },
  {
   "cell_type": "code",
   "execution_count": 10,
   "id": "69f3af2f-b765-4569-9793-460ca461e39b",
   "metadata": {},
   "outputs": [
    {
     "data": {
      "text/plain": [
       "True"
      ]
     },
     "execution_count": 10,
     "metadata": {},
     "output_type": "execute_result"
    }
   ],
   "source": [
    "os.path.exists(settings_file)"
   ]
  },
  {
   "cell_type": "code",
   "execution_count": 11,
   "id": "e5becba4-ea3a-4949-bac8-efa552f41aa2",
   "metadata": {},
   "outputs": [
    {
     "data": {
      "text/plain": [
       "True"
      ]
     },
     "execution_count": 11,
     "metadata": {},
     "output_type": "execute_result"
    }
   ],
   "source": [
    "os.path.exists(training_file)"
   ]
  },
  {
   "cell_type": "code",
   "execution_count": 12,
   "id": "639e2bd7-3c7f-4cf2-949d-afc4bd1275cb",
   "metadata": {},
   "outputs": [
    {
     "name": "stdout",
     "output_type": "stream",
     "text": [
      "reading from people_learned_settings\n",
      "clustering...\n",
      "# duplicate sets 1604\n"
     ]
    }
   ],
   "source": [
    "if os.path.exists(settings_file):\n",
    "        print('reading from', settings_file)\n",
    "        with open(settings_file, 'rb') as f:\n",
    "            deduper = dedupe.StaticDedupe(f)\n",
    "else:        \n",
    "    # Define the fields dedupe will pay attention to\n",
    "    fields = [\n",
    "        {'field': ' given_name', 'type': 'String'},\n",
    "        {'field': ' surname', 'type': 'String'},\n",
    "        {'field': ' address_1', 'type': 'String', 'has missing': True},\n",
    "        {'field': ' address_2', 'type': 'String', 'has missing': True},\n",
    "       #{'field': ' suburb', 'type': 'Exact', 'has missing': True},\n",
    "        #{'field': ' state','type': 'String', 'has missing': True},\n",
    "        {'field': ' date_of_birth','type': 'String', 'has missing': True},\n",
    "        ]\n",
    "    deduper = dedupe.Dedupe(fields)\n",
    "    \n",
    "    # If we have training data saved from a previous run of dedupe,\n",
    "    # look for it and load it in.\n",
    "    # __Note:__ if you want to train from scratch, delete the training_file\n",
    "    if os.path.exists(training_file):\n",
    "        print('reading labeled examples from ', training_file)\n",
    "        with open(training_file, 'rb') as f:\n",
    "            deduper.prepare_training(data_d, f)\n",
    "    else:\n",
    "        deduper.prepare_training(data_d)\n",
    "    \n",
    "    dedupe.console_label(deduper)\n",
    "        \n",
    "    # Using the examples we just labeled, train the deduper and learn\n",
    "    # blocking predicates    \n",
    "    deduper.train()\n",
    "    \n",
    "    # When finished, save our training to disk\n",
    "    with open(training_file, 'w') as tf:\n",
    "        deduper.write_training(tf)\n",
    "        \n",
    "    with open(settings_file, 'wb') as sf:\n",
    "        deduper.write_settings(sf)\n",
    "\n",
    "print('clustering...')\n",
    "clustered_dupes = deduper.partition(data_d, 0.5)\n",
    "print('# duplicate sets', len(clustered_dupes))\n",
    "\n",
    "# Write our original data back out to a CSV with a new column called\n",
    "# 'Cluster ID' which indicates which records refer to each other.\n",
    "cluster_membership = {}\n",
    "for cluster_id, (records, scores) in enumerate(clustered_dupes):\n",
    "    for record_id, score in zip(records, scores):\n",
    "        cluster_membership[record_id] = {\n",
    "            \"Cluster ID\": cluster_id,\n",
    "            \"confidence_score\": score\n",
    "        }\n",
    "        \n",
    "with open(output_file, 'w') as f_output, open(input_file) as f_input:\n",
    "    reader = csv.DictReader(f_input)\n",
    "    fieldnames = ['Cluster ID', 'confidence_score'] + reader.fieldnames\n",
    "\n",
    "    writer = csv.DictWriter(f_output, fieldnames=fieldnames)\n",
    "    writer.writeheader()\n",
    "\n",
    "    for row in reader:\n",
    "        row_id = int(row['rec_id'])\n",
    "        row.update(cluster_membership[row_id])\n",
    "        writer.writerow(row)\n",
    "        "
   ]
  },
  {
   "cell_type": "code",
   "execution_count": 13,
   "id": "2a24f12a-1b79-4b97-8464-52655885b976",
   "metadata": {},
   "outputs": [],
   "source": [
    "final_clusters = pd.read_csv(output_file)"
   ]
  },
  {
   "cell_type": "code",
   "execution_count": 14,
   "id": "ac022892-e5f4-45ea-9eff-a263a5932247",
   "metadata": {},
   "outputs": [
    {
     "data": {
      "text/html": [
       "<div>\n",
       "<style scoped>\n",
       "    .dataframe tbody tr th:only-of-type {\n",
       "        vertical-align: middle;\n",
       "    }\n",
       "\n",
       "    .dataframe tbody tr th {\n",
       "        vertical-align: top;\n",
       "    }\n",
       "\n",
       "    .dataframe thead th {\n",
       "        text-align: right;\n",
       "    }\n",
       "</style>\n",
       "<table border=\"1\" class=\"dataframe\">\n",
       "  <thead>\n",
       "    <tr style=\"text-align: right;\">\n",
       "      <th></th>\n",
       "      <th>Cluster ID</th>\n",
       "      <th>confidence_score</th>\n",
       "      <th>rec_id</th>\n",
       "      <th>given_name</th>\n",
       "      <th>surname</th>\n",
       "      <th>street_number</th>\n",
       "      <th>address_1</th>\n",
       "      <th>address_2</th>\n",
       "      <th>suburb</th>\n",
       "      <th>postcode</th>\n",
       "      <th>state</th>\n",
       "      <th>date_of_birth</th>\n",
       "    </tr>\n",
       "  </thead>\n",
       "  <tbody>\n",
       "    <tr>\n",
       "      <th>0</th>\n",
       "      <td>6</td>\n",
       "      <td>0.427840</td>\n",
       "      <td>1</td>\n",
       "      <td>mitchell</td>\n",
       "      <td>green</td>\n",
       "      <td>7</td>\n",
       "      <td>wallaby place</td>\n",
       "      <td>delmar</td>\n",
       "      <td>cleveland</td>\n",
       "      <td>2119</td>\n",
       "      <td>sa</td>\n",
       "      <td>19560409</td>\n",
       "    </tr>\n",
       "    <tr>\n",
       "      <th>1</th>\n",
       "      <td>7</td>\n",
       "      <td>0.454876</td>\n",
       "      <td>2</td>\n",
       "      <td>harley</td>\n",
       "      <td>mccarthy</td>\n",
       "      <td>177</td>\n",
       "      <td>pridhamstreet</td>\n",
       "      <td>milton</td>\n",
       "      <td>marsden</td>\n",
       "      <td>3165</td>\n",
       "      <td>nsw</td>\n",
       "      <td>19080419</td>\n",
       "    </tr>\n",
       "    <tr>\n",
       "      <th>2</th>\n",
       "      <td>8</td>\n",
       "      <td>0.691934</td>\n",
       "      <td>3</td>\n",
       "      <td>madeline</td>\n",
       "      <td>mason</td>\n",
       "      <td>54</td>\n",
       "      <td>hoseason street</td>\n",
       "      <td>lakefront retrmnt vlge</td>\n",
       "      <td>granville</td>\n",
       "      <td>4881</td>\n",
       "      <td>nsw</td>\n",
       "      <td>19081128</td>\n",
       "    </tr>\n",
       "    <tr>\n",
       "      <th>3</th>\n",
       "      <td>719</td>\n",
       "      <td>0.607611</td>\n",
       "      <td>4</td>\n",
       "      <td>isabelle</td>\n",
       "      <td></td>\n",
       "      <td>23</td>\n",
       "      <td>gundulu place</td>\n",
       "      <td>currin ga</td>\n",
       "      <td>utakarra</td>\n",
       "      <td>2193</td>\n",
       "      <td>wa</td>\n",
       "      <td>19921119</td>\n",
       "    </tr>\n",
       "    <tr>\n",
       "      <th>4</th>\n",
       "      <td>997</td>\n",
       "      <td>1.000000</td>\n",
       "      <td>5</td>\n",
       "      <td>taylor</td>\n",
       "      <td>hathaway</td>\n",
       "      <td>7</td>\n",
       "      <td>yuranigh court</td>\n",
       "      <td>brentwood vlge</td>\n",
       "      <td></td>\n",
       "      <td>4220</td>\n",
       "      <td>nsw</td>\n",
       "      <td>19991207</td>\n",
       "    </tr>\n",
       "    <tr>\n",
       "      <th>...</th>\n",
       "      <td>...</td>\n",
       "      <td>...</td>\n",
       "      <td>...</td>\n",
       "      <td>...</td>\n",
       "      <td>...</td>\n",
       "      <td>...</td>\n",
       "      <td>...</td>\n",
       "      <td>...</td>\n",
       "      <td>...</td>\n",
       "      <td>...</td>\n",
       "      <td>...</td>\n",
       "      <td>...</td>\n",
       "    </tr>\n",
       "    <tr>\n",
       "      <th>4995</th>\n",
       "      <td>576</td>\n",
       "      <td>0.674437</td>\n",
       "      <td>4996</td>\n",
       "      <td>jack</td>\n",
       "      <td>campbell</td>\n",
       "      <td>169</td>\n",
       "      <td>marr street</td>\n",
       "      <td>rhosewyn</td>\n",
       "      <td>oakleigh</td>\n",
       "      <td>3356</td>\n",
       "      <td>vic</td>\n",
       "      <td>19770109</td>\n",
       "    </tr>\n",
       "    <tr>\n",
       "      <th>4996</th>\n",
       "      <td>54</td>\n",
       "      <td>0.619670</td>\n",
       "      <td>4997</td>\n",
       "      <td>william</td>\n",
       "      <td>lazaroff</td>\n",
       "      <td>12</td>\n",
       "      <td>leah ylose</td>\n",
       "      <td>milwlood</td>\n",
       "      <td>forbes</td>\n",
       "      <td>7256</td>\n",
       "      <td>qld</td>\n",
       "      <td></td>\n",
       "    </tr>\n",
       "    <tr>\n",
       "      <th>4997</th>\n",
       "      <td>450</td>\n",
       "      <td>0.613152</td>\n",
       "      <td>4998</td>\n",
       "      <td>destynii</td>\n",
       "      <td>bowerman</td>\n",
       "      <td>12</td>\n",
       "      <td>halford crescent</td>\n",
       "      <td>sutton</td>\n",
       "      <td>nollamara</td>\n",
       "      <td>2431</td>\n",
       "      <td>qld</td>\n",
       "      <td>19880821</td>\n",
       "    </tr>\n",
       "    <tr>\n",
       "      <th>4998</th>\n",
       "      <td>73</td>\n",
       "      <td>0.418188</td>\n",
       "      <td>4999</td>\n",
       "      <td>gianni</td>\n",
       "      <td>dooley</td>\n",
       "      <td>38</td>\n",
       "      <td>ashburton circuit</td>\n",
       "      <td>brentwood vlge</td>\n",
       "      <td>ryde</td>\n",
       "      <td>6025</td>\n",
       "      <td>qld</td>\n",
       "      <td>19371212</td>\n",
       "    </tr>\n",
       "    <tr>\n",
       "      <th>4999</th>\n",
       "      <td>360</td>\n",
       "      <td>0.481566</td>\n",
       "      <td>5000</td>\n",
       "      <td>jake</td>\n",
       "      <td>westbrook</td>\n",
       "      <td>231</td>\n",
       "      <td>booroondar a street</td>\n",
       "      <td>jodayne</td>\n",
       "      <td>salisbury east</td>\n",
       "      <td>2074</td>\n",
       "      <td>nsw</td>\n",
       "      <td>19001115</td>\n",
       "    </tr>\n",
       "  </tbody>\n",
       "</table>\n",
       "<p>5000 rows × 12 columns</p>\n",
       "</div>"
      ],
      "text/plain": [
       "      Cluster ID  confidence_score  rec_id  given_name     surname  \\\n",
       "0              6          0.427840       1    mitchell       green   \n",
       "1              7          0.454876       2      harley    mccarthy   \n",
       "2              8          0.691934       3    madeline       mason   \n",
       "3            719          0.607611       4    isabelle               \n",
       "4            997          1.000000       5      taylor    hathaway   \n",
       "...          ...               ...     ...         ...         ...   \n",
       "4995         576          0.674437    4996        jack    campbell   \n",
       "4996          54          0.619670    4997     william    lazaroff   \n",
       "4997         450          0.613152    4998    destynii    bowerman   \n",
       "4998          73          0.418188    4999      gianni      dooley   \n",
       "4999         360          0.481566    5000        jake   westbrook   \n",
       "\n",
       "      street_number             address_1                address_2  \\\n",
       "0                 7         wallaby place                   delmar   \n",
       "1               177         pridhamstreet                   milton   \n",
       "2                54       hoseason street   lakefront retrmnt vlge   \n",
       "3                23         gundulu place                currin ga   \n",
       "4                 7        yuranigh court           brentwood vlge   \n",
       "...             ...                   ...                      ...   \n",
       "4995            169           marr street                 rhosewyn   \n",
       "4996             12            leah ylose                 milwlood   \n",
       "4997             12      halford crescent                   sutton   \n",
       "4998             38     ashburton circuit           brentwood vlge   \n",
       "4999            231   booroondar a street                  jodayne   \n",
       "\n",
       "               suburb   postcode  state  date_of_birth  \n",
       "0           cleveland       2119     sa       19560409  \n",
       "1             marsden       3165    nsw       19080419  \n",
       "2           granville       4881    nsw       19081128  \n",
       "3            utakarra       2193     wa       19921119  \n",
       "4                           4220    nsw       19991207  \n",
       "...               ...        ...    ...            ...  \n",
       "4995         oakleigh       3356    vic       19770109  \n",
       "4996           forbes       7256    qld                 \n",
       "4997        nollamara       2431    qld       19880821  \n",
       "4998             ryde       6025    qld       19371212  \n",
       "4999   salisbury east       2074    nsw       19001115  \n",
       "\n",
       "[5000 rows x 12 columns]"
      ]
     },
     "execution_count": 14,
     "metadata": {},
     "output_type": "execute_result"
    }
   ],
   "source": [
    "final_clusters"
   ]
  },
  {
   "cell_type": "code",
   "execution_count": 15,
   "id": "367a01c2-b45f-4a5b-a111-686ffa9f9dae",
   "metadata": {},
   "outputs": [
    {
     "name": "stdout",
     "output_type": "stream",
     "text": [
      "Unique cluster ids:\n"
     ]
    },
    {
     "data": {
      "text/plain": [
       "1604"
      ]
     },
     "execution_count": 15,
     "metadata": {},
     "output_type": "execute_result"
    }
   ],
   "source": [
    "#Checking unique clusters\n",
    "print(\"Unique cluster ids:\")\n",
    "final_clusters['Cluster ID'].nunique()"
   ]
  },
  {
   "cell_type": "code",
   "execution_count": null,
   "id": "d4223d91-96b7-492f-bf9a-4bd471dbda76",
   "metadata": {},
   "outputs": [],
   "source": []
  }
 ],
 "metadata": {
  "kernelspec": {
   "display_name": "Python 3",
   "language": "python",
   "name": "python3"
  },
  "language_info": {
   "codemirror_mode": {
    "name": "ipython",
    "version": 3
   },
   "file_extension": ".py",
   "mimetype": "text/x-python",
   "name": "python",
   "nbconvert_exporter": "python",
   "pygments_lexer": "ipython3",
   "version": "3.8.8"
  }
 },
 "nbformat": 4,
 "nbformat_minor": 5
}
