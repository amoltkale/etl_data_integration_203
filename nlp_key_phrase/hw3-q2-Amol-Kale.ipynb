{
 "cells": [
  {
   "cell_type": "markdown",
   "id": "1e5e4a89-21b0-4ce2-abcb-90612533a309",
   "metadata": {},
   "source": [
    "## Part - b"
   ]
  },
  {
   "cell_type": "markdown",
   "id": "72961688-bd7d-4986-8a2f-ce77dcfd6b3d",
   "metadata": {},
   "source": [
    "**Choose 3 distinct organizations (Agency-Branch) giving these awards (e.g., Department of Defense-Airforce) , build ONE LDA topic modeling on all abstracts to identify their areas of interest. Remember to use unigrams, bigrams and trigrams for the LDA computation**"
   ]
  },
  {
   "cell_type": "code",
   "execution_count": 24,
   "id": "8d130ebe-2d97-4b1a-9695-80fbfe705173",
   "metadata": {},
   "outputs": [],
   "source": [
    "import psycopg2\n",
    "import pandas as pd"
   ]
  },
  {
   "cell_type": "code",
   "execution_count": 25,
   "id": "654d8877-2534-419d-8404-8ee8eb103b5c",
   "metadata": {},
   "outputs": [],
   "source": [
    "threshold = 100"
   ]
  },
  {
   "cell_type": "code",
   "execution_count": 26,
   "id": "2ea140cc-1c94-4101-86ec-74ffd20ce036",
   "metadata": {},
   "outputs": [],
   "source": [
    "#!pip install gensim\n",
    "#!pip install pyLDAvis"
   ]
  },
  {
   "cell_type": "code",
   "execution_count": 27,
   "id": "2e121bf8-c320-4608-aa62-fa3d6cdfcf3b",
   "metadata": {},
   "outputs": [],
   "source": [
    "import re\n",
    "import numpy as np\n",
    "import pandas as pd\n",
    "from pprint import pprint\n",
    "\n",
    "# Gensim\n",
    "import gensim\n",
    "import gensim.corpora as corpora\n",
    "from gensim.utils import simple_preprocess\n",
    "from gensim.models import CoherenceModel\n",
    "\n",
    "# spacy for lemmatization\n",
    "import spacy\n",
    "\n",
    "# Plotting tools\n",
    "import pyLDAvis\n",
    "import pyLDAvis.gensim_models as gensimvis\n",
    "import matplotlib.pyplot as plt\n",
    "%matplotlib inline\n",
    "\n",
    "# Enable logging for gensim - optional\n",
    "import logging\n",
    "logging.basicConfig(format='%(asctime)s : %(levelname)s : %(message)s', level=logging.ERROR)\n",
    "\n",
    "import warnings\n",
    "warnings.filterwarnings(\"ignore\",category=DeprecationWarning)"
   ]
  },
  {
   "cell_type": "code",
   "execution_count": 28,
   "id": "a28d96d0-38ae-4d06-8da4-88865cbc4a28",
   "metadata": {},
   "outputs": [],
   "source": [
    "# NLTK Stop words\n",
    "from nltk.corpus import stopwords\n",
    "stop_words = stopwords.words('english')"
   ]
  },
  {
   "cell_type": "code",
   "execution_count": 29,
   "id": "6516a1bd-be10-45f5-ba8c-3d748af1b89f",
   "metadata": {},
   "outputs": [
    {
     "name": "stderr",
     "output_type": "stream",
     "text": [
      "[nltk_data] Downloading package stopwords to\n",
      "[nltk_data]     /Users/amolkale/nltk_data...\n",
      "[nltk_data]   Package stopwords is already up-to-date!\n"
     ]
    },
    {
     "data": {
      "text/plain": [
       "True"
      ]
     },
     "execution_count": 29,
     "metadata": {},
     "output_type": "execute_result"
    }
   ],
   "source": [
    "import nltk; nltk.download('stopwords')"
   ]
  },
  {
   "cell_type": "code",
   "execution_count": 30,
   "id": "0388f64a-7b58-47a6-ae14-7d76b1a5bbb9",
   "metadata": {},
   "outputs": [],
   "source": [
    "conn = psycopg2.connect(database=\"dse203\",\n",
    "                        host=\"localhost\",\n",
    "                        user=\"postgres\",\n",
    "                        password=\"admin\",\n",
    "                        port=\"5432\")\n",
    "cursor = conn.cursor()"
   ]
  },
  {
   "cell_type": "code",
   "execution_count": 31,
   "id": "15635219-5320-4d53-8109-7398509d10cd",
   "metadata": {},
   "outputs": [],
   "source": [
    "#picking 3 organization (Agency-Branch) names\n",
    "sql = '''select funder, \"Abstract\" from (select case\n",
    "\t\t   when \"Branch\" is null then \"Agency\"\n",
    "\t\t   else \"Agency\" || ' - ' || \"Branch\"\n",
    "\t\t   end as funder, \"Abstract\"\n",
    "        FROM award_data) as f_a\n",
    "        WHERE \"Abstract\" like '%radiation hardness%' \n",
    "         and funder in (select DISTINCT case\n",
    "                           when \"Branch\" is null then \"Agency\"\n",
    "                           else \"Agency\" || ' - ' || \"Branch\"\n",
    "                           end as funder\n",
    "                        FROM award_data \n",
    "                        WHERE \"Branch\" is not null and \"Agency\" is not null limit 4)'''    \n",
    "    \n",
    "cursor.execute(sql)\n",
    "result = cursor.fetchall()\n",
    "conn.close()"
   ]
  },
  {
   "cell_type": "code",
   "execution_count": 32,
   "id": "e9a7f11f-419f-4fb2-8a0d-95b4517bf2d4",
   "metadata": {},
   "outputs": [
    {
     "name": "stdout",
     "output_type": "stream",
     "text": [
      "Department of Defense - Air Force\n",
      "Department of Defense - Army\n",
      "Department of Health and Human Services - National Institutes of Health\n"
     ]
    }
   ],
   "source": [
    "#Printing the 3 organization combinations we picked.\n",
    "organizations = [t[0] for t in result]\n",
    "for org in np.unique(organizations):\n",
    "    print(org)"
   ]
  },
  {
   "cell_type": "code",
   "execution_count": 10,
   "id": "a5c31a87-a4ea-4401-98d2-bd0dac1b8445",
   "metadata": {},
   "outputs": [],
   "source": [
    "#Taking the Abstract column which is at 1st index.\n",
    "data = [t[1] for t in result]\n",
    "\n",
    "#print sample Abstract texts\n",
    "#data[:2]"
   ]
  },
  {
   "cell_type": "code",
   "execution_count": 11,
   "id": "6e00e56e-cd27-48b5-b851-8c837d60c875",
   "metadata": {},
   "outputs": [],
   "source": [
    "# Remove Emails\n",
    "data = [re.sub('\\S*@\\S*\\s?', '', str(sent)) for sent in data]\n",
    "\n",
    "# Remove new line characters\n",
    "data = [re.sub('\\s+', ' ', str(sent)) for sent in data]\n",
    "\n",
    "# Remove distracting single quotes\n",
    "data = [re.sub(\"\\'\", \"\", str(sent)) for sent in data]\n",
    "\n",
    "#print(data[:1])"
   ]
  },
  {
   "cell_type": "code",
   "execution_count": 12,
   "id": "09ccb183-d868-45dd-993c-2954a7dd0dff",
   "metadata": {},
   "outputs": [],
   "source": [
    "def sent_to_words(sentences):\n",
    "    for sentence in sentences:\n",
    "        yield(gensim.utils.simple_preprocess(str(sentence), deacc=True))  # deacc=True removes punctuations\n",
    "\n",
    "data_words = list(sent_to_words(data))\n",
    "\n",
    "#print(data_words[:1])"
   ]
  },
  {
   "cell_type": "code",
   "execution_count": 13,
   "id": "c32e45b8-3480-466d-b750-506aea0cdfa2",
   "metadata": {},
   "outputs": [],
   "source": [
    "# Define functions for stopwords and lemmatization\n",
    "def remove_stopwords(texts):\n",
    "    return [[word for word in doc if word not in stop_words] for doc in texts]\n",
    "\n",
    "\n",
    "def lemmatization(texts, allowed_postags=['NOUN', 'ADJ', 'VERB', 'ADV']):\n",
    "    \"\"\"https://spacy.io/api/annotation\"\"\"\n",
    "    texts_out = []\n",
    "    for sent in texts:\n",
    "        doc = nlp(\" \".join(sent)) \n",
    "        texts_out.append([token.lemma_ for token in doc if token.pos_ in allowed_postags])\n",
    "    return texts_out"
   ]
  },
  {
   "cell_type": "code",
   "execution_count": 14,
   "id": "f54810dd-9f74-4c29-954e-0276fd9dea50",
   "metadata": {},
   "outputs": [
    {
     "name": "stderr",
     "output_type": "stream",
     "text": [
      "/Users/amolkale/anaconda3/lib/python3.8/site-packages/spacy/language.py:1895: UserWarning: [W123] Argument disable with value ['parser', 'ner'] is used instead of ['senter'] as specified in the config. Be aware that this might affect other components in your pipeline.\n",
      "  warnings.warn(\n"
     ]
    }
   ],
   "source": [
    "# Remove Stop Words\n",
    "data_words_nostops = remove_stopwords(data_words)\n",
    "\n",
    "# Initialize spacy 'en' model, keeping only tagger component (for efficiency)\n",
    "# python3 -m spacy download en\n",
    "nlp = spacy.load('en_core_web_sm', disable=['parser', 'ner'])\n",
    "\n",
    "# Do lemmatization keeping only noun, adj, vb, adv\n",
    "data_lemmatized = lemmatization(data_words_nostops, allowed_postags=['NOUN', 'ADJ', 'VERB', 'ADV'])\n",
    "\n",
    "#print(data_lemmatized[0])"
   ]
  },
  {
   "cell_type": "code",
   "execution_count": 15,
   "id": "a4d2e6ae-a101-427c-acff-3828c6bf9e77",
   "metadata": {},
   "outputs": [],
   "source": [
    "#Creating bigrams and trigrams\n",
    "bigram = gensim.models.Phrases(data_lemmatized, min_count=3, threshold=threshold)\n",
    "trigram = gensim.models.Phrases(bigram[data_lemmatized],threshold=threshold)\n",
    "bigram_mod = gensim.models.phrases.Phraser(bigram)\n",
    "trigram_mod = gensim.models.phrases.Phraser(trigram)"
   ]
  },
  {
   "cell_type": "code",
   "execution_count": 16,
   "id": "2c1a119b-288c-4123-ad33-5a7eb830e396",
   "metadata": {},
   "outputs": [],
   "source": [
    "#bigrams and trigrams routine\n",
    "def make_bigrams(texts):\n",
    "    return [bigram_mod[doc] for doc in texts]\n",
    "\n",
    "def make_trigrams(texts):\n",
    "    return [trigram_mod[bigram_mod[doc]] for doc in texts]"
   ]
  },
  {
   "cell_type": "code",
   "execution_count": 17,
   "id": "da449bb1-60cd-4456-8173-e8e2ab31df7b",
   "metadata": {},
   "outputs": [],
   "source": [
    "data_word_trigrams = make_trigrams(data_lemmatized)\n",
    "id2word_tri = corpora.Dictionary(data_word_trigrams)"
   ]
  },
  {
   "cell_type": "code",
   "execution_count": 18,
   "id": "5d02cb5c-5001-4692-89a2-eef299ee44d8",
   "metadata": {},
   "outputs": [],
   "source": [
    "# Create Dictionary\n",
    "#id2word = corpora.Dictionary(data_lemmatized)\n",
    "\n",
    "# Create Corpus\n",
    "texts = data_word_trigrams\n",
    "\n",
    "# Term Frequency list   \n",
    "corpus = [id2word_tri.doc2bow(text) for text in texts]"
   ]
  },
  {
   "cell_type": "code",
   "execution_count": 19,
   "id": "69c9eb6a-18e2-44b5-9d69-410176824e91",
   "metadata": {},
   "outputs": [
    {
     "name": "stdout",
     "output_type": "stream",
     "text": [
      "Num Topics: 3 \t Perplexity Score: -6.896012010235031 \t Coherence Score: 0.3038803137485894\n",
      "Num Topics: 4 \t Perplexity Score: -6.911085380202709 \t Coherence Score: 0.31077921073265713\n",
      "Num Topics: 5 \t Perplexity Score: -6.915923565136269 \t Coherence Score: 0.3029136040012011\n",
      "Num Topics: 6 \t Perplexity Score: -6.893987405542958 \t Coherence Score: 0.3431617162133775\n",
      "Num Topics: 7 \t Perplexity Score: -6.916733013828991 \t Coherence Score: 0.32031061994732973\n",
      "Num Topics: 8 \t Perplexity Score: -6.942199095325276 \t Coherence Score: 0.30578820216453806\n",
      "Num Topics: 9 \t Perplexity Score: -6.961317718721443 \t Coherence Score: 0.30269057728431803\n",
      "Num Topics: 10 \t Perplexity Score: -6.948563516669897 \t Coherence Score: 0.3196394516587067\n"
     ]
    }
   ],
   "source": [
    "for num_topics in range(3, 11, 1):\n",
    "    \n",
    "    # Build LDA model\n",
    "    lda_model = gensim.models.ldamodel.LdaModel(corpus=corpus,\n",
    "                                               id2word=id2word_tri,\n",
    "                                               num_topics=num_topics, \n",
    "                                               random_state=100,\n",
    "                                               update_every=1,\n",
    "                                               chunksize=100,\n",
    "                                               passes=10,\n",
    "                                               alpha='auto',\n",
    "                                               per_word_topics=True)\n",
    "    # Compute Perplexity\n",
    "    #print('\\nPerplexity: ', lda_model.log_perplexity(corpus))  \n",
    "    # a measure of how good the model is. lower the better.\n",
    "\n",
    "    # Compute Coherence Score\n",
    "    coherence_model_lda = CoherenceModel(model=lda_model, texts=data_lemmatized, dictionary=id2word_tri, coherence='c_v')\n",
    "    coherence_lda = coherence_model_lda.get_coherence()\n",
    "    #print('\\nCoherence Score: ', coherence_lda)\n",
    "    \n",
    "    print(\"Num Topics: {0} \\t Perplexity Score: {1} \\t Coherence Score: {2}\".format(num_topics,lda_model.log_perplexity(corpus),coherence_lda))"
   ]
  },
  {
   "cell_type": "markdown",
   "id": "c4fba79e-c5be-4f5c-87e8-8ad09ed0322c",
   "metadata": {},
   "source": [
    "Since Coherence for 6 topics highest, let's choose that one."
   ]
  },
  {
   "cell_type": "code",
   "execution_count": 20,
   "id": "85cb9d82-e305-485b-bb55-3eb03dd98bb1",
   "metadata": {},
   "outputs": [],
   "source": [
    "# Build LDA model\n",
    "lda_model = gensim.models.ldamodel.LdaModel(corpus=corpus,\n",
    "                                           id2word=id2word_tri,\n",
    "                                           num_topics=6, \n",
    "                                           random_state=100,\n",
    "                                           update_every=1,\n",
    "                                           chunksize=100,\n",
    "                                           passes=10,\n",
    "                                           alpha='auto',\n",
    "                                           per_word_topics=True)"
   ]
  },
  {
   "cell_type": "code",
   "execution_count": 21,
   "id": "e029496a-76c9-40bf-a13b-9baffad05f13",
   "metadata": {},
   "outputs": [
    {
     "name": "stdout",
     "output_type": "stream",
     "text": [
      "[(0, '0.019*\"process\" + 0.018*\"technology\" + 0.015*\"radiation\" + 0.012*\"product\" + 0.012*\"commercial\" + 0.010*\"market\" + 0.008*\"space\" + 0.008*\"harden\" + 0.008*\"use\" + 0.007*\"circuit\"'), (1, '0.037*\"power\" + 0.017*\"high\" + 0.012*\"low\" + 0.011*\"radiation\" + 0.011*\"design\" + 0.010*\"converter\" + 0.010*\"application\" + 0.010*\"technology\" + 0.009*\"system\" + 0.008*\"phase\"'), (2, '0.029*\"high\" + 0.019*\"device\" + 0.019*\"radiation\" + 0.014*\"system\" + 0.013*\"application\" + 0.012*\"power\" + 0.010*\"communication\" + 0.010*\"use\" + 0.009*\"speed\" + 0.009*\"performance\"'), (3, '0.018*\"radiation\" + 0.018*\"design\" + 0.016*\"high\" + 0.014*\"use\" + 0.013*\"power\" + 0.009*\"application\" + 0.009*\"space\" + 0.009*\"system\" + 0.009*\"technology\" + 0.008*\"base\"'), (4, '0.026*\"radiation\" + 0.021*\"memory\" + 0.020*\"harden\" + 0.017*\"design\" + 0.014*\"device\" + 0.010*\"space\" + 0.009*\"high\" + 0.009*\"power\" + 0.009*\"performance\" + 0.009*\"application\"'), (5, '0.033*\"cell\" + 0.031*\"solar\" + 0.022*\"efficiency\" + 0.020*\"high\" + 0.011*\"technology\" + 0.010*\"radiation\" + 0.010*\"material\" + 0.010*\"application\" + 0.009*\"power\" + 0.009*\"base\"')]\n"
     ]
    }
   ],
   "source": [
    "# Print the Keyword in the 6 topics\n",
    "print(lda_model.print_topics())"
   ]
  },
  {
   "cell_type": "code",
   "execution_count": 22,
   "id": "4245e57c-e6d8-4a04-a760-31995977f5fc",
   "metadata": {},
   "outputs": [
    {
     "name": "stderr",
     "output_type": "stream",
     "text": [
      "/Users/amolkale/anaconda3/lib/python3.8/site-packages/pyLDAvis/_prepare.py:246: FutureWarning: In a future version of pandas all arguments of DataFrame.drop except for the argument 'labels' will be keyword-only\n",
      "  default_term_info = default_term_info.sort_values(\n"
     ]
    }
   ],
   "source": [
    "#preparing vizualization\n",
    "pyLDAvis.enable_notebook()\n",
    "vis = gensimvis.prepare(lda_model, corpus, id2word_tri)"
   ]
  },
  {
   "cell_type": "code",
   "execution_count": 23,
   "id": "c0fe8704-c107-40d6-9334-aa8a5c1aa921",
   "metadata": {},
   "outputs": [
    {
     "data": {
      "text/html": [
       "\n",
       "<link rel=\"stylesheet\" type=\"text/css\" href=\"https://cdn.jsdelivr.net/gh/bmabey/pyLDAvis@3.3.1/pyLDAvis/js/ldavis.v1.0.0.css\">\n",
       "\n",
       "\n",
       "<div id=\"ldavis_el69691402842081646403594354853\"></div>\n",
       "<script type=\"text/javascript\">\n",
       "\n",
       "var ldavis_el69691402842081646403594354853_data = {\"mdsDat\": {\"x\": [0.01366830568670857, -0.05484119022604956, -0.13365523076469724, 0.05828325120531783, 0.11234286206028102, 0.004202002038439166], \"y\": [0.013840672654958709, 0.05589152419032125, -0.08938543736608483, 0.04039480659966113, -0.1048450756539606, 0.08410350957510428], \"topics\": [1, 2, 3, 4, 5, 6], \"cluster\": [1, 1, 1, 1, 1, 1], \"Freq\": [25.35128332889124, 19.26200469835782, 17.40452647826137, 14.00710992131991, 12.887605617234712, 11.087469955934951]}, \"tinfo\": {\"Term\": [\"solar\", \"cell\", \"efficiency\", \"power\", \"memory\", \"high\", \"harden\", \"converter\", \"compiler\", \"device\", \"process\", \"product\", \"bit\", \"company\", \"ti\", \"communication\", \"module\", \"speed\", \"market\", \"system\", \"adc\", \"material\", \"fiber\", \"dac\", \"array\", \"band\", \"photovoltaic\", \"technology\", \"application\", \"sram\", \"metal_programmable\", \"cache\", \"zno\", \"proton_beam\", \"hpa\", \"patient\", \"tissue\", \"ray\", \"fpgas\", \"formation\", \"healthy\", \"therapy\", \"sspa\", \"tunable\", \"tumor\", \"thulium\", \"lidar\", \"lst\", \"scientific\", \"pdk\", \"memristor\", \"fpga\", \"led\", \"caa\", \"star\", \"specify\", \"recovery\", \"cover\", \"closure\", \"coherent\", \"damage\", \"interconnect\", \"fiber\", \"dope\", \"gps\", \"soc\", \"highly\", \"band\", \"use\", \"design\", \"library\", \"effort\", \"potential\", \"radiation\", \"high\", \"benefit\", \"approach\", \"circuit\", \"base\", \"power\", \"space\", \"system\", \"application\", \"phase\", \"low\", \"develop\", \"technology\", \"device\", \"cell\", \"cost\", \"propose\", \"provide\", \"performance\", \"harden\", \"also\", \"hardness\", \"process\", \"compiler\", \"dac\", \"nonvolatile\", \"cig\", \"reticle\", \"graphene\", \"soi\", \"honeywell\", \"mrc\", \"aspect_ratio\", \"variety_different\", \"date\", \"dh\", \"attribute\", \"sasic\", \"latch\", \"rad\", \"aid\", \"ferroelectric\", \"fet\", \"upset\", \"shore\", \"day\", \"block\", \"embed\", \"aluminum\", \"memory\", \"length\", \"prevent\", \"keep\", \"scientic\", \"computing\", \"trust\", \"word\", \"single_event\", \"harden\", \"support\", \"asic\", \"bit\", \"foundry\", \"radiation\", \"fabrication\", \"design\", \"device\", \"performance\", \"satellite\", \"program\", \"military\", \"defense\", \"space\", \"commercial\", \"process\", \"application\", \"level\", \"develop\", \"system\", \"low\", \"provide\", \"high\", \"power\", \"phase\", \"base\", \"cost\", \"use\", \"technology\", \"hardness\", \"company\", \"ti\", \"client\", \"lead_edge\", \"bgr\", \"agreement\", \"bgr_pid\", \"adversarial\", \"service\", \"license\", \"sst\", \"microwave\", \"approximately\", \"strike\", \"engineer_substrate\", \"move\", \"isolate\", \"roughly\", \"variant\", \"mil_aero\", \"hbi_ip\", \"export\", \"fabless\", \"metrology\", \"assure\", \"width\", \"vulnerable\", \"ic\", \"original\", \"valve\", \"module\", \"path\", \"ip\", \"business\", \"product\", \"spin\", \"process\", \"market\", \"technology\", \"commercial\", \"integration\", \"first\", \"frequency\", \"silicon\", \"manufacturing\", \"circuit\", \"semiconductor\", \"radiation\", \"signal\", \"space\", \"harden\", \"integrate\", \"use\", \"foundry\", \"advantage\", \"base\", \"provide\", \"develop\", \"design\", \"reliability\", \"enable\", \"device\", \"power\", \"high\", \"filter\", \"battery\", \"kw\", \"liquid\", \"steering\", \"video\", \"environmental\", \"profile\", \"mmic\", \"management\", \"modular\", \"awareness\", \"optic\", \"situational\", \"pod\", \"automotive\", \"detiale\", \"shortcoming\", \"subscale\", \"cascade\", \"excessive\", \"adapt\", \"variation\", \"boost\", \"compliance\", \"modern\", \"poc\", \"object\", \"rugate\", \"rois\", \"converter\", \"voltage\", \"output\", \"link\", \"sensor\", \"ladar\", \"image\", \"surveillance\", \"power\", \"spacecraft\", \"optical\", \"combine\", \"capable\", \"tracking\", \"range\", \"conversion\", \"direct\", \"new\", \"consumption\", \"low\", \"increase\", \"high\", \"enable\", \"size\", \"processor\", \"propose\", \"application\", \"design\", \"system\", \"phase\", \"technology\", \"radiation\", \"performance\", \"need\", \"also\", \"use\", \"benefit\", \"develop\", \"base\", \"solar\", \"carrier\", \"quantum_dot\", \"quantum_dot_solar\", \"help\", \"ingan\", \"alignment\", \"inassb\", \"absorption\", \"multijunction\", \"concentrator\", \"intermediate\", \"globalstar\", \"optimum\", \"orbital\", \"suffer\", \"alassb\", \"ote\", \"nipi\", \"stability\", \"photovoltaic\", \"concentrate\", \"degradation\", \"accelerometer\", \"inertial\", \"guidance\", \"rather\", \"reflection\", \"qwip\", \"coupler\", \"gaas\", \"cell\", \"efficiency\", \"grow\", \"light\", \"nanostructure\", \"junction\", \"array\", \"material\", \"terrestrial\", \"mechanical\", \"high\", \"energy\", \"cost\", \"structure\", \"achieve\", \"technology\", \"application\", \"base\", \"band\", \"addition\", \"device\", \"low\", \"radiation\", \"reduce\", \"power\", \"space\", \"phase\", \"develop\", \"propose\", \"system\", \"hardness\", \"benefit\", \"market\", \"oxide_heterostructure\", \"adcs\", \"ridgetop\", \"adc\", \"enob\", \"dsp\", \"demodulator\", \"srt\", \"relay\", \"polar_oxide\", \"interleave\", \"waveform\", \"altitude\", \"thickness\", \"pulse\", \"dimension\", \"respond\", \"overcome\", \"aggressive\", \"otherwise\", \"transponder\", \"amplitude\", \"popular\", \"surgery\", \"biomedical\", \"pld\", \"commercialize\", \"laalo\", \"repair\", \"shuffle\", \"oxide\", \"nanoelectronic\", \"equipment\", \"deposition\", \"fault\", \"organization\", \"speed\", \"self\", \"communication\", \"bit\", \"gate\", \"software_define\", \"high\", \"linear\", \"device\", \"control\", \"element\", \"system\", \"sram\", \"application\", \"radiation\", \"critical\", \"performance\", \"amplifier\", \"requirement\", \"power\", \"use\", \"base\", \"include\", \"satellite\", \"low\", \"digital\", \"phase\", \"also\", \"harden\", \"circuit\", \"develop\", \"space\", \"technology\", \"material\", \"design\", \"benefit\"], \"Freq\": [54.0, 87.0, 57.0, 169.0, 69.0, 186.0, 95.0, 28.0, 20.0, 118.0, 85.0, 41.0, 21.0, 15.0, 14.0, 36.0, 18.0, 32.0, 42.0, 99.0, 10.0, 45.0, 25.0, 13.0, 27.0, 36.0, 11.0, 124.0, 109.0, 19.0, 8.94707827820495, 8.920748228161266, 8.09846745760521, 7.187096081149897, 5.411230108869921, 4.548062024133355, 4.545070652000569, 9.827243033167152, 4.515749976733496, 4.4124815366708106, 3.6677508749294487, 3.6671623103250455, 3.6654373230739425, 3.6654574896276464, 3.663931927185396, 3.6630315279079744, 3.6615507800295104, 3.6579756982033986, 3.6548278485520567, 3.6544222767497843, 3.610294122698074, 15.099593555770406, 2.7963785506549175, 2.79260889893103, 2.791574802871644, 2.788930556880859, 2.7883188380851656, 2.7868011181915775, 2.7863794878372814, 2.7859261138336358, 6.298300788111707, 6.262386770147464, 18.603479978212512, 5.426466313648121, 8.964918956048574, 7.155225457203341, 8.060398979486905, 21.792340930694767, 44.14581696511751, 57.8359372184899, 10.715266768798807, 16.59640745535179, 12.10359282545511, 59.07961306688256, 50.49152932098772, 21.44901655752219, 14.179941941746039, 17.503389992193558, 27.251046094621895, 41.33531043650138, 28.792915062815986, 28.622984212210667, 29.283792881076213, 23.028372908324144, 25.842903784768357, 22.967924037050587, 28.156721540019873, 25.479568215046065, 21.696424319821347, 17.34542911157576, 16.55422798791542, 16.607192827036542, 18.30515988381368, 18.603379892353388, 13.003889776289247, 12.089923636590663, 12.386062008642464, 19.30776049117919, 12.249567268105388, 7.057715384120937, 6.245582115843935, 6.244630410471064, 6.226103652210634, 5.321921122466937, 4.497317506030445, 4.492403199127419, 3.632444040216358, 3.631455447038337, 3.6309239788918295, 3.6307179746876836, 3.6298882828241554, 3.628465264802406, 3.6236426099075603, 3.6232061987974005, 2.7601396679309707, 2.7546902041009216, 2.7511884163827944, 2.7494433394468505, 2.742843543600815, 2.741256800474669, 5.3768981397578495, 9.727969118481088, 1.892382852639714, 51.01279269733144, 1.8892255402712186, 1.8891467989948405, 1.8887980673599991, 5.529695373755008, 3.629314819330246, 5.264716649249656, 3.631161479606526, 8.986208702355233, 49.16648200394325, 12.760063846128324, 10.36049169094972, 11.40881019804135, 15.33161829901027, 62.54781593945536, 14.579071888658545, 41.953987659431554, 34.260004171857524, 22.18038753464875, 16.16340538987121, 11.594013085110463, 11.041202222047577, 9.877279603634525, 24.366542739360717, 19.089066882062014, 20.87899484903073, 22.156348035784823, 10.9912175435552, 18.80230902989139, 20.46209682029079, 19.37482365595134, 15.226642415609613, 23.028187337972973, 22.184768670891188, 16.342380480421607, 13.196923284996682, 11.698606470346949, 12.502105722200064, 11.664179365552771, 11.0463540296653, 14.457748052652033, 13.633917396598111, 8.56715477584564, 6.9000991384089865, 6.892981766626322, 6.891751609932762, 6.040782128115332, 5.224724688117132, 5.207206620954945, 5.201145573802849, 5.198859605257668, 10.316163770130204, 4.358028788777906, 4.349912523606724, 3.524785049596149, 3.520494371758149, 3.51904807873848, 3.514895851216137, 3.5143248718587885, 3.510726445599073, 3.508426375632853, 3.508291771159297, 6.87964438621803, 2.682159763191789, 2.680690138730037, 2.676918393186277, 2.67528211556679, 6.050550567053355, 2.6734989267790223, 2.6727543717481557, 14.437965040881485, 5.199720048330529, 5.202009606328338, 5.188569157351723, 27.065321978147868, 4.374564884256823, 41.20731408756515, 21.962433055029962, 39.97807629387804, 25.86950301398668, 10.186043035686273, 6.05732130026793, 8.368604716498758, 13.973464231852203, 11.033216414959966, 14.901073142291047, 10.695599679661923, 32.874974123747485, 10.339168059245038, 18.35396248130335, 17.854620393949507, 10.837239480368517, 16.90334673511225, 10.528291190432519, 10.096906671350501, 14.441796525172556, 12.56551989850449, 13.243056772129954, 14.00345154466562, 9.149349634320215, 9.415867517517862, 10.313276824659281, 10.19987576055725, 9.912949275273867, 7.668455320010291, 4.321894671945915, 4.20580077200683, 3.491796153478457, 2.656201317337435, 2.6517443416363804, 2.644592752709397, 2.6259485630591897, 3.8471099705129337, 5.168329244406544, 6.841347102091892, 2.4634744660724737, 5.544876836510127, 2.450566981905633, 1.817853266993673, 1.8174354255216991, 1.817465345034507, 1.8167264362388833, 1.8166820728233404, 1.816668454286476, 1.8165630137965112, 1.8162161537894062, 1.8157758210974593, 1.8157277435354988, 1.8151553523042616, 1.8144837108270888, 1.8144360459480635, 1.8143733181419006, 1.8143002732623557, 1.8134410673910968, 18.555002264965545, 8.525495431224753, 6.019151874518035, 3.419708904684722, 9.33650488783777, 3.9069745824709297, 7.684130668624073, 5.163188040398791, 64.82333747615779, 9.208302457894549, 9.217843687358288, 7.429199912182465, 7.323935225148136, 3.4741989404350626, 10.31315454491699, 7.73618897017826, 3.8715218168666534, 12.17052075857372, 4.965129944634379, 21.935652999581894, 9.17474060549974, 30.251451850901386, 11.915024626510775, 9.781453025732738, 6.0169753847173535, 13.329232920845792, 17.270366507918887, 19.831356300866947, 16.10871521778173, 13.874811316411863, 17.007637694732175, 20.185888909104936, 12.646174982951342, 8.65302353725172, 8.9142922782134, 10.49612082573811, 8.92412486182945, 9.395941134908941, 7.813470452736931, 51.24444268138169, 6.76301446998839, 5.9293838601605104, 5.103013867286004, 4.247084255657181, 3.4568468624009077, 3.4522187032102027, 3.4499993586807363, 3.4498979788707502, 3.4449273305841386, 3.415456941250597, 3.407757771186611, 2.624354402312477, 2.624243340161088, 2.623715177930038, 2.6220910126221177, 2.621742258481773, 2.618756300332975, 2.6139736033794825, 2.583896453984677, 9.001220200508335, 2.549668238025561, 6.600664766337037, 1.7992867792816094, 1.7991557828979197, 1.7987308989751698, 1.7986876132136027, 1.798301648506297, 1.798107621978571, 1.7976303395023454, 5.9489004228319535, 54.514355426059495, 35.18385773981135, 3.452796226397426, 6.476172637872328, 5.921636088539678, 6.771969306837481, 11.796494697412603, 15.970775339711372, 6.7549412957564785, 4.8156727301132705, 32.22676587818307, 4.742837981382501, 13.178697913968456, 7.24181194786899, 7.843792349776726, 18.47770895023057, 15.841274972693427, 13.93128239015637, 8.708868926284053, 5.612263637828323, 13.925100879644871, 12.681896596873282, 16.783858122583457, 7.327488139197973, 14.580154181629721, 11.644201719031987, 10.28623701015501, 10.104966112903591, 8.810525157624522, 9.672643873758101, 7.754351815990065, 7.39812670507871, 6.789697484096814, 7.060627387393189, 4.83119696788113, 4.830363649639665, 8.753470112034627, 3.265715388897779, 3.2640820720779717, 3.2627342590382673, 3.2626574931477363, 3.262551327554449, 3.9064018779520677, 2.4805519005672836, 2.480022869249348, 2.4794614982583805, 2.4417972123936322, 2.418257850386575, 2.359983556231093, 1.698307639388829, 1.6981802406768842, 1.697766521526427, 1.6974672978850385, 1.6972644399360184, 1.697184080748484, 1.6969015169386572, 1.696210460592197, 1.6952755500445396, 1.6924476253027259, 1.680922941822168, 1.680187295926527, 1.6689399496419723, 1.66731937269336, 5.36215069971351, 3.2590109500158353, 3.2437404177407325, 3.174372145750076, 3.1683942061895825, 3.051159298150936, 12.986411875196504, 4.0679734977277375, 13.480168776437965, 8.79311724451862, 2.4842938294014614, 2.4811859541567327, 40.35687528152596, 2.4845038739444885, 27.2446836380163, 3.1658645250990656, 6.019475460547809, 19.494283037856437, 6.924761561054369, 18.02294943366376, 26.678751119834303, 4.797432715918718, 12.792598581397845, 6.1157144075312, 7.81347864241408, 16.80681831593228, 13.345643576544841, 11.896804011594547, 7.844504475396405, 8.574214244387543, 10.227727353334757, 5.635171039361978, 9.158833213641591, 7.341227297075654, 8.924039347507248, 7.113590625245704, 8.39603375253462, 8.608609936632494, 9.025489228472553, 7.024645417852843, 6.725008220645436, 6.023276515450863], \"Total\": [54.0, 87.0, 57.0, 169.0, 69.0, 186.0, 95.0, 28.0, 20.0, 118.0, 85.0, 41.0, 21.0, 15.0, 14.0, 36.0, 18.0, 32.0, 42.0, 99.0, 10.0, 45.0, 25.0, 13.0, 27.0, 36.0, 11.0, 124.0, 109.0, 19.0, 9.687677461778838, 9.686352389489919, 8.803941145601264, 7.91854652890945, 6.1492294092843185, 5.265964822780946, 5.2657877767884465, 11.44431112838929, 5.264625155073872, 5.249694386053936, 4.381666633665013, 4.381580172369683, 4.381307843481693, 4.381651841184866, 4.381484671781083, 4.381588066730253, 4.381509630654473, 4.381077483702202, 4.380163409222252, 4.3820336923261864, 4.380963252512738, 18.442355481719314, 3.4977545577167426, 3.497626349404448, 3.497566946535876, 3.4975518690070095, 3.497434220724367, 3.4973698910102264, 3.497528118125344, 3.497216184790137, 7.906369816250536, 7.870317733188881, 25.013798035109353, 6.982431569534566, 12.26662241450524, 9.66403410449086, 11.290858298451186, 36.22538202360767, 103.6388965944749, 147.05671402204644, 17.51279849670466, 32.81035225986404, 23.146461647903298, 218.15090128160813, 186.26775894484499, 57.32076886382383, 31.61089706028075, 45.25972035034481, 88.53132275927899, 169.9302648416696, 99.41910105005506, 99.21436357119093, 109.4693432092566, 78.47099150053975, 97.14921049434056, 82.91023083941909, 124.309813072886, 118.41751639758228, 87.25783610999011, 58.162680781162166, 57.18890573581012, 60.1280656405364, 78.27045088798099, 95.72879848047585, 46.64047549505626, 44.427164705785195, 85.68164273907001, 20.075487391159218, 13.080095774069187, 7.837186356394257, 6.9626825996178265, 6.96407245094795, 6.961971121729259, 6.090023340673654, 5.215124219265059, 5.215772137482041, 4.341433266165699, 4.341402660131059, 4.341398167854001, 4.341539287933408, 4.341314868242919, 4.341543773111766, 4.341285588211707, 4.34087710531578, 3.467206217734753, 3.4668618723371902, 3.4665316801523254, 3.466992189817463, 3.466652179744583, 3.466486343440102, 6.8768165269278665, 12.984142037987795, 2.5932420849292788, 69.98277155492357, 2.5931306746405083, 2.5931653918451754, 2.5931128614546877, 7.85466908645523, 5.128534881368182, 7.66442996097545, 5.182520734690478, 13.810274109074838, 95.72879848047585, 21.363873710533156, 19.154615566706248, 21.74969916114943, 32.742752513982104, 218.15090128160813, 32.613085276361524, 147.05671402204644, 118.41751639758228, 78.27045088798099, 47.64050319784561, 28.089514437601366, 26.34923302139619, 22.356436330750313, 99.41910105005506, 72.6853100181045, 85.68164273907001, 109.4693432092566, 28.573474635377462, 82.91023083941909, 99.21436357119093, 97.14921049434056, 60.1280656405364, 186.26775894484499, 169.9302648416696, 78.47099150053975, 88.53132275927899, 58.162680781162166, 103.6388965944749, 124.309813072886, 44.427164705785195, 15.321814426273633, 14.470476218377975, 9.361022964047448, 7.657314710132841, 7.657468892724587, 7.657197755473752, 6.806030783173339, 5.954049698627523, 5.954148266179032, 5.95407019339914, 5.954324247680391, 11.946962372949457, 5.102840904311829, 5.103030605505062, 4.250748710787979, 4.251102531659548, 4.250487980281222, 4.251108955097914, 4.251342595332845, 4.251299999161495, 4.2513560046651655, 4.251253233536808, 8.541159291034237, 3.399459457265201, 3.3993487483144045, 3.399477260530589, 3.3993808342655853, 7.689296566423695, 3.399434895568664, 3.398945120001385, 18.81666774052711, 6.794687746181649, 6.837675869448717, 6.838368526438465, 41.82168960086871, 5.985980621896594, 85.68164273907001, 42.59697133332407, 124.309813072886, 72.6853100181045, 19.727238268819807, 9.329590430990503, 16.001833970493127, 37.69907600756352, 26.59849508375071, 45.25972035034481, 25.759986881545153, 218.15090128160813, 27.147779134057178, 99.41910105005506, 95.72879848047585, 34.37905853828691, 103.6388965944749, 32.742752513982104, 31.88452062714524, 88.53132275927899, 60.1280656405364, 82.91023083941909, 147.05671402204644, 28.101245676600822, 40.8043935370373, 118.41751639758228, 169.9302648416696, 186.26775894484499, 8.41791259929392, 5.051990841773728, 5.050683856007073, 4.210727685969775, 3.369281663027991, 3.369226375916465, 3.3693734320191386, 3.369043208373055, 5.026832105238234, 6.777278647639141, 9.151059696131027, 3.376242612517748, 7.626630009556955, 3.3767922272449433, 2.5278183434614974, 2.527807633029272, 2.5278561428313227, 2.527824980530586, 2.5278338567849477, 2.5278298558919032, 2.52781082111776, 2.5278268617166804, 2.5278190702067054, 2.5278619465762, 2.5278592515780596, 2.5277869561458495, 2.5277212607358743, 2.5277902425820216, 2.527806142712573, 2.5278140162695295, 28.449994747317337, 12.686865423948797, 9.335285066695782, 5.045801701656492, 15.230790065787518, 5.957887960200204, 12.838264495378866, 8.351489767367578, 169.9302648416696, 17.692737365117548, 17.914149106328434, 15.051444943894538, 15.043606877177028, 5.881717848350628, 24.6235398218286, 16.910529966905155, 6.824316926400982, 37.598870660620186, 9.871641374111928, 97.14921049434056, 26.265462878634686, 186.26775894484499, 40.8043935370373, 30.782176146146803, 13.662681879230702, 57.18890573581012, 109.4693432092566, 147.05671402204644, 99.21436357119093, 78.47099150053975, 124.309813072886, 218.15090128160813, 78.27045088798099, 32.55892848665783, 46.64047549505626, 103.6388965944749, 57.32076886382383, 82.91023083941909, 88.53132275927899, 54.260810277078455, 7.507660482332588, 6.675101719082713, 5.8420603837185086, 5.010713489103116, 4.176235858383558, 4.176526875746002, 4.17662623330232, 4.176552856517803, 4.177579951448352, 4.176707294329569, 4.178996331295132, 3.343531893569238, 3.343791155111784, 3.343808079272206, 3.3438260125702626, 3.343647613792758, 3.3446312398085505, 3.3430833192112077, 3.3460581831603635, 11.760150147537281, 3.344381214477945, 9.152069575148394, 2.510821658336026, 2.510833279078024, 2.5108393041256, 2.5107822131507316, 2.5107648819957205, 2.5108652857485207, 2.510863767483951, 8.443100848283619, 87.25783610999011, 57.43468717515171, 5.060425333262662, 11.004387904721677, 10.079849957153064, 11.804184361412094, 27.155401187677057, 45.59349703892324, 13.652594690586813, 8.366696357195288, 186.26775894484499, 9.271009708628995, 58.162680781162166, 20.464366607425276, 23.6959735392477, 124.309813072886, 109.4693432092566, 88.53132275927899, 36.22538202360767, 13.341213803932565, 118.41751639758228, 97.14921049434056, 218.15090128160813, 28.06733857070093, 169.9302648416696, 99.41910105005506, 78.47099150053975, 82.91023083941909, 57.18890573581012, 99.21436357119093, 44.427164705785195, 57.32076886382383, 42.59697133332407, 7.946712382686567, 5.569564574654059, 5.569667506909508, 10.379982566392151, 3.9945752255860634, 3.994778191865697, 3.9948754160712823, 3.995180893407153, 3.9951933300404434, 4.799632606845893, 3.2073967029877295, 3.2076144216507823, 3.2076628202109854, 3.212057461345567, 3.2111642808419214, 3.2221310778401486, 2.4198325358943085, 2.4198225755165783, 2.419856065031008, 2.419858287859068, 2.4200416081969998, 2.4199473487183822, 2.4199231175811855, 2.4198683573586277, 2.420019152499687, 2.4204379710371544, 2.4218959794019437, 2.4219134523919266, 2.422816852459751, 2.422857248757365, 8.156306045454777, 4.869092160005765, 4.870533227403616, 4.846972659251817, 4.853941715045852, 4.88878883551396, 32.47801733447644, 7.377557328017995, 36.05616185425847, 21.74969916114943, 4.058115659582287, 4.058537104528311, 186.26775894484499, 4.080274452029426, 118.41751639758228, 5.774886325422029, 14.882276319902498, 99.21436357119093, 19.997765982555176, 109.4693432092566, 218.15090128160813, 11.58203379926254, 78.27045088798099, 19.37527835698122, 32.23701821238058, 169.9302648416696, 103.6388965944749, 88.53132275927899, 37.257002126321034, 47.64050319784561, 97.14921049434056, 18.49810720670831, 78.47099150053975, 46.64047549505626, 95.72879848047585, 45.25972035034481, 82.91023083941909, 99.41910105005506, 124.309813072886, 45.59349703892324, 147.05671402204644, 57.32076886382383], \"Category\": [\"Default\", \"Default\", \"Default\", \"Default\", \"Default\", \"Default\", \"Default\", \"Default\", \"Default\", \"Default\", \"Default\", \"Default\", \"Default\", \"Default\", \"Default\", \"Default\", \"Default\", \"Default\", \"Default\", \"Default\", \"Default\", \"Default\", \"Default\", \"Default\", \"Default\", \"Default\", \"Default\", \"Default\", \"Default\", \"Default\", \"Topic1\", \"Topic1\", \"Topic1\", \"Topic1\", \"Topic1\", \"Topic1\", \"Topic1\", \"Topic1\", \"Topic1\", \"Topic1\", \"Topic1\", \"Topic1\", \"Topic1\", \"Topic1\", \"Topic1\", \"Topic1\", \"Topic1\", \"Topic1\", \"Topic1\", \"Topic1\", \"Topic1\", \"Topic1\", \"Topic1\", \"Topic1\", \"Topic1\", \"Topic1\", \"Topic1\", \"Topic1\", \"Topic1\", \"Topic1\", \"Topic1\", \"Topic1\", \"Topic1\", \"Topic1\", \"Topic1\", \"Topic1\", \"Topic1\", \"Topic1\", \"Topic1\", \"Topic1\", \"Topic1\", \"Topic1\", \"Topic1\", \"Topic1\", \"Topic1\", \"Topic1\", \"Topic1\", \"Topic1\", \"Topic1\", \"Topic1\", \"Topic1\", \"Topic1\", \"Topic1\", \"Topic1\", \"Topic1\", \"Topic1\", \"Topic1\", \"Topic1\", \"Topic1\", \"Topic1\", \"Topic1\", \"Topic1\", \"Topic1\", \"Topic1\", \"Topic1\", \"Topic1\", \"Topic1\", \"Topic2\", \"Topic2\", \"Topic2\", \"Topic2\", \"Topic2\", \"Topic2\", \"Topic2\", \"Topic2\", \"Topic2\", \"Topic2\", \"Topic2\", \"Topic2\", \"Topic2\", \"Topic2\", \"Topic2\", \"Topic2\", \"Topic2\", \"Topic2\", \"Topic2\", \"Topic2\", \"Topic2\", \"Topic2\", \"Topic2\", \"Topic2\", \"Topic2\", \"Topic2\", \"Topic2\", \"Topic2\", \"Topic2\", \"Topic2\", \"Topic2\", \"Topic2\", \"Topic2\", \"Topic2\", \"Topic2\", \"Topic2\", \"Topic2\", \"Topic2\", \"Topic2\", \"Topic2\", \"Topic2\", \"Topic2\", \"Topic2\", \"Topic2\", \"Topic2\", \"Topic2\", \"Topic2\", \"Topic2\", \"Topic2\", \"Topic2\", \"Topic2\", \"Topic2\", \"Topic2\", \"Topic2\", \"Topic2\", \"Topic2\", \"Topic2\", \"Topic2\", \"Topic2\", \"Topic2\", \"Topic2\", \"Topic2\", \"Topic2\", \"Topic2\", \"Topic2\", \"Topic2\", \"Topic3\", \"Topic3\", \"Topic3\", \"Topic3\", \"Topic3\", \"Topic3\", \"Topic3\", \"Topic3\", \"Topic3\", \"Topic3\", \"Topic3\", \"Topic3\", \"Topic3\", \"Topic3\", \"Topic3\", \"Topic3\", \"Topic3\", \"Topic3\", \"Topic3\", \"Topic3\", \"Topic3\", \"Topic3\", \"Topic3\", \"Topic3\", \"Topic3\", \"Topic3\", \"Topic3\", \"Topic3\", \"Topic3\", \"Topic3\", \"Topic3\", \"Topic3\", \"Topic3\", \"Topic3\", \"Topic3\", \"Topic3\", \"Topic3\", \"Topic3\", \"Topic3\", \"Topic3\", \"Topic3\", \"Topic3\", \"Topic3\", \"Topic3\", \"Topic3\", \"Topic3\", \"Topic3\", \"Topic3\", \"Topic3\", \"Topic3\", \"Topic3\", \"Topic3\", \"Topic3\", \"Topic3\", \"Topic3\", \"Topic3\", \"Topic3\", \"Topic3\", \"Topic3\", \"Topic3\", \"Topic3\", \"Topic3\", \"Topic3\", \"Topic3\", \"Topic4\", \"Topic4\", \"Topic4\", \"Topic4\", \"Topic4\", \"Topic4\", \"Topic4\", \"Topic4\", \"Topic4\", \"Topic4\", \"Topic4\", \"Topic4\", \"Topic4\", \"Topic4\", \"Topic4\", \"Topic4\", \"Topic4\", \"Topic4\", \"Topic4\", \"Topic4\", \"Topic4\", \"Topic4\", \"Topic4\", \"Topic4\", \"Topic4\", \"Topic4\", \"Topic4\", \"Topic4\", \"Topic4\", \"Topic4\", \"Topic4\", \"Topic4\", \"Topic4\", \"Topic4\", \"Topic4\", \"Topic4\", \"Topic4\", \"Topic4\", \"Topic4\", \"Topic4\", \"Topic4\", \"Topic4\", \"Topic4\", \"Topic4\", \"Topic4\", \"Topic4\", \"Topic4\", \"Topic4\", \"Topic4\", \"Topic4\", \"Topic4\", \"Topic4\", \"Topic4\", \"Topic4\", \"Topic4\", \"Topic4\", \"Topic4\", \"Topic4\", \"Topic4\", \"Topic4\", \"Topic4\", \"Topic4\", \"Topic4\", \"Topic4\", \"Topic4\", \"Topic4\", \"Topic4\", \"Topic4\", \"Topic4\", \"Topic5\", \"Topic5\", \"Topic5\", \"Topic5\", \"Topic5\", \"Topic5\", \"Topic5\", \"Topic5\", \"Topic5\", \"Topic5\", \"Topic5\", \"Topic5\", \"Topic5\", \"Topic5\", \"Topic5\", \"Topic5\", \"Topic5\", \"Topic5\", \"Topic5\", \"Topic5\", \"Topic5\", \"Topic5\", \"Topic5\", \"Topic5\", \"Topic5\", \"Topic5\", \"Topic5\", \"Topic5\", \"Topic5\", \"Topic5\", \"Topic5\", \"Topic5\", \"Topic5\", \"Topic5\", \"Topic5\", \"Topic5\", \"Topic5\", \"Topic5\", \"Topic5\", \"Topic5\", \"Topic5\", \"Topic5\", \"Topic5\", \"Topic5\", \"Topic5\", \"Topic5\", \"Topic5\", \"Topic5\", \"Topic5\", \"Topic5\", \"Topic5\", \"Topic5\", \"Topic5\", \"Topic5\", \"Topic5\", \"Topic5\", \"Topic5\", \"Topic5\", \"Topic5\", \"Topic5\", \"Topic5\", \"Topic5\", \"Topic5\", \"Topic5\", \"Topic6\", \"Topic6\", \"Topic6\", \"Topic6\", \"Topic6\", \"Topic6\", \"Topic6\", \"Topic6\", \"Topic6\", \"Topic6\", \"Topic6\", \"Topic6\", \"Topic6\", \"Topic6\", \"Topic6\", \"Topic6\", \"Topic6\", \"Topic6\", \"Topic6\", \"Topic6\", \"Topic6\", \"Topic6\", \"Topic6\", \"Topic6\", \"Topic6\", \"Topic6\", \"Topic6\", \"Topic6\", \"Topic6\", \"Topic6\", \"Topic6\", \"Topic6\", \"Topic6\", \"Topic6\", \"Topic6\", \"Topic6\", \"Topic6\", \"Topic6\", \"Topic6\", \"Topic6\", \"Topic6\", \"Topic6\", \"Topic6\", \"Topic6\", \"Topic6\", \"Topic6\", \"Topic6\", \"Topic6\", \"Topic6\", \"Topic6\", \"Topic6\", \"Topic6\", \"Topic6\", \"Topic6\", \"Topic6\", \"Topic6\", \"Topic6\", \"Topic6\", \"Topic6\", \"Topic6\", \"Topic6\", \"Topic6\", \"Topic6\", \"Topic6\", \"Topic6\", \"Topic6\", \"Topic6\", \"Topic6\", \"Topic6\", \"Topic6\", \"Topic6\", \"Topic6\"], \"logprob\": [30.0, 29.0, 28.0, 27.0, 26.0, 25.0, 24.0, 23.0, 22.0, 21.0, 20.0, 19.0, 18.0, 17.0, 16.0, 15.0, 14.0, 13.0, 12.0, 11.0, 10.0, 9.0, 8.0, 7.0, 6.0, 5.0, 4.0, 3.0, 2.0, 1.0, -5.8821, -5.885, -5.9817, -6.1011, -6.3849, -6.5587, -6.5593, -5.7882, -6.5658, -6.589, -6.7738, -6.774, -6.7744, -6.7744, -6.7749, -6.7751, -6.7755, -6.7765, -6.7773, -6.7774, -6.7896, -5.3587, -7.0451, -7.0464, -7.0468, -7.0477, -7.0479, -7.0485, -7.0486, -7.0488, -6.2331, -6.2388, -5.15, -6.3821, -5.8801, -6.1055, -5.9864, -4.9918, -4.2859, -4.0158, -5.7017, -5.2642, -5.5799, -3.9945, -4.1516, -5.0077, -5.4216, -5.211, -4.7683, -4.3517, -4.7133, -4.7192, -4.6964, -4.9367, -4.8214, -4.9393, -4.7356, -4.8355, -4.9962, -5.2201, -5.2667, -5.2636, -5.1662, -5.15, -5.5081, -5.581, -5.5568, -4.8382, -5.2932, -5.8446, -5.9668, -5.967, -5.9699, -6.1269, -6.2952, -6.2963, -6.5088, -6.5091, -6.5092, -6.5093, -6.5095, -6.5099, -6.5112, -6.5113, -6.7834, -6.7854, -6.7867, -6.7873, -6.7897, -6.7903, -6.1166, -5.5237, -7.1609, -3.8666, -7.1625, -7.1626, -7.1628, -6.0886, -6.5096, -6.1377, -6.5091, -5.603, -3.9035, -5.2524, -5.4607, -5.3643, -5.0688, -3.6628, -5.1191, -4.0621, -4.2647, -4.6995, -5.0159, -5.3482, -5.3971, -5.5085, -4.6055, -4.8496, -4.7599, -4.7006, -5.4016, -4.8647, -4.7801, -4.8347, -5.0756, -4.662, -4.6993, -5.0049, -5.2187, -5.3392, -5.2728, -5.3422, -5.3966, -5.0261, -5.0847, -5.5494, -5.7658, -5.7668, -5.767, -5.8988, -6.0439, -6.0472, -6.0484, -6.0488, -5.3636, -6.2253, -6.2271, -6.4375, -6.4387, -6.4391, -6.4403, -6.4404, -6.4415, -6.4421, -6.4422, -5.7687, -6.7107, -6.7112, -6.7126, -6.7132, -5.8971, -6.7139, -6.7142, -5.0274, -6.0487, -6.0482, -6.0508, -4.399, -6.2215, -3.9787, -4.608, -4.009, -4.4442, -5.3763, -5.896, -5.5728, -5.0601, -5.2964, -4.9959, -5.3275, -4.2046, -5.3613, -4.7874, -4.815, -5.3143, -4.8698, -5.3432, -5.3851, -5.0272, -5.1663, -5.1138, -5.058, -5.4836, -5.4549, -5.3639, -5.3749, -5.4034, -5.443, -6.0164, -6.0437, -6.2297, -6.5032, -6.5049, -6.5076, -6.5147, -6.1328, -5.8376, -5.5571, -6.5786, -5.7672, -6.5838, -6.8825, -6.8827, -6.8827, -6.8831, -6.8831, -6.8831, -6.8832, -6.8834, -6.8836, -6.8836, -6.884, -6.8843, -6.8843, -6.8844, -6.8844, -6.8849, -4.5594, -5.3371, -5.6852, -6.2506, -5.2462, -6.1174, -5.441, -5.8386, -3.3085, -5.26, -5.259, -5.4747, -5.489, -6.2348, -5.1467, -5.4342, -6.1265, -4.9811, -5.8777, -4.392, -5.2637, -4.0706, -5.0023, -5.1996, -5.6855, -4.8902, -4.6311, -4.4929, -4.7008, -4.85, -4.6465, -4.4751, -4.9428, -5.3222, -5.2925, -5.1291, -5.2914, -5.2398, -5.4243, -3.4602, -5.4854, -5.6169, -5.767, -5.9506, -6.1565, -6.1578, -6.1585, -6.1585, -6.1599, -6.1685, -6.1708, -6.432, -6.432, -6.4322, -6.4329, -6.433, -6.4341, -6.436, -6.4475, -5.1995, -6.4609, -5.5097, -6.8094, -6.8095, -6.8097, -6.8098, -6.81, -6.8101, -6.8104, -5.6136, -3.3984, -3.8362, -6.1576, -5.5287, -5.6182, -5.484, -4.929, -4.6261, -5.4866, -5.8249, -3.924, -5.8402, -4.8182, -5.417, -5.3371, -4.4803, -4.6342, -4.7627, -5.2325, -5.6719, -4.7631, -4.8566, -4.5764, -5.4052, -4.7172, -4.942, -5.066, -5.0838, -5.2209, -5.1275, -5.3486, -5.3956, -5.4814, -5.2918, -5.6713, -5.6715, -5.0769, -6.0629, -6.0634, -6.0638, -6.0638, -6.0639, -5.8838, -6.3379, -6.3381, -6.3383, -6.3536, -6.3633, -6.3877, -6.7167, -6.7168, -6.7171, -6.7172, -6.7174, -6.7174, -6.7176, -6.718, -6.7185, -6.7202, -6.727, -6.7275, -6.7342, -6.7352, -5.567, -6.065, -6.0696, -6.0913, -6.0931, -6.1309, -4.6825, -5.8432, -4.6452, -5.0724, -6.3364, -6.3376, -3.5486, -6.3363, -3.9415, -6.0939, -5.4514, -4.2763, -5.3113, -4.3547, -3.9625, -5.6783, -4.6975, -5.4355, -5.1905, -4.4246, -4.6552, -4.7701, -5.1866, -5.0976, -4.9213, -5.5173, -5.0317, -5.2529, -5.0576, -5.2844, -5.1186, -5.0936, -5.0463, -5.2969, -5.3405, -5.4507], \"loglift\": [30.0, 29.0, 28.0, 27.0, 26.0, 25.0, 24.0, 23.0, 22.0, 21.0, 20.0, 19.0, 18.0, 17.0, 16.0, 15.0, 14.0, 13.0, 12.0, 11.0, 10.0, 9.0, 8.0, 7.0, 6.0, 5.0, 4.0, 3.0, 2.0, 1.0, 1.2928, 1.29, 1.2888, 1.2754, 1.2445, 1.2258, 1.2252, 1.22, 1.2189, 1.1986, 1.1945, 1.1943, 1.1939, 1.1939, 1.1935, 1.1932, 1.1928, 1.192, 1.1913, 1.1908, 1.1789, 1.1724, 1.1485, 1.1472, 1.1469, 1.1459, 1.1458, 1.1452, 1.145, 1.145, 1.145, 1.1438, 1.0763, 1.1202, 1.0588, 1.0718, 1.0353, 0.8641, 0.5189, 0.4391, 0.8811, 0.6908, 0.724, 0.066, 0.067, 0.3894, 0.5707, 0.4223, 0.1941, -0.0413, 0.1331, 0.1293, 0.0537, 0.1463, 0.0481, 0.0887, -0.1126, -0.164, -0.0194, 0.1624, 0.1326, 0.0857, -0.0806, -0.2658, 0.0951, 0.0709, -0.5617, 1.608, 1.5814, 1.5423, 1.5383, 1.538, 1.5353, 1.5122, 1.499, 1.4977, 1.4687, 1.4685, 1.4683, 1.4682, 1.4681, 1.4676, 1.4663, 1.4663, 1.419, 1.4171, 1.4159, 1.4151, 1.4128, 1.4123, 1.401, 1.3583, 1.332, 1.3309, 1.3303, 1.3303, 1.3301, 1.2961, 1.3013, 1.2715, 1.2913, 1.2173, 0.9807, 1.1317, 1.0325, 1.0018, 0.8883, 0.3978, 0.8419, 0.3928, 0.4068, 0.3861, 0.5661, 0.7621, 0.7772, 0.8302, 0.2409, 0.31, 0.2351, 0.0495, 0.6917, 0.1633, 0.0683, 0.0348, 0.2736, -0.4434, -0.3889, 0.0781, -0.2563, 0.0433, -0.468, -0.7192, 0.2553, 1.6904, 1.6889, 1.6598, 1.6443, 1.6433, 1.6431, 1.6292, 1.6178, 1.6144, 1.6132, 1.6128, 1.6017, 1.5907, 1.5888, 1.5612, 1.5599, 1.5596, 1.5583, 1.5581, 1.557, 1.5564, 1.5564, 1.5321, 1.5114, 1.5109, 1.5095, 1.5089, 1.5088, 1.5082, 1.5081, 1.4836, 1.4809, 1.475, 1.4723, 1.3133, 1.4348, 1.0164, 1.086, 0.614, 0.7154, 1.0875, 1.3165, 1.1002, 0.756, 0.8685, 0.6375, 0.8694, -0.144, 0.7831, 0.0589, 0.0692, 0.594, -0.065, 0.6138, 0.5985, -0.0648, 0.1829, -0.0858, -0.6031, 0.6263, 0.282, -0.6923, -1.0646, -1.1849, 1.8724, 1.8095, 1.7825, 1.7784, 1.7278, 1.7261, 1.7234, 1.7164, 1.6981, 1.6946, 1.6747, 1.6504, 1.6468, 1.645, 1.6359, 1.6357, 1.6357, 1.6353, 1.6353, 1.6352, 1.6352, 1.635, 1.6348, 1.6347, 1.6344, 1.6341, 1.6341, 1.634, 1.634, 1.6335, 1.5382, 1.5681, 1.5268, 1.5766, 1.4762, 1.5437, 1.4523, 1.4847, 1.0019, 1.3126, 1.3012, 1.2595, 1.2458, 1.4391, 1.0953, 1.1836, 1.3988, 0.8376, 1.2784, 0.4775, 0.9138, 0.148, 0.7346, 0.8192, 1.1455, 0.5092, 0.119, -0.0379, 0.1477, 0.233, -0.0235, -0.4146, 0.1428, 0.6405, 0.3108, -0.3243, 0.1057, -0.2119, -0.4619, 1.9917, 1.9444, 1.9304, 1.9137, 1.8836, 1.8599, 1.8584, 1.8578, 1.8578, 1.8561, 1.8477, 1.8449, 1.8067, 1.8066, 1.8064, 1.8058, 1.8057, 1.8042, 1.8029, 1.7904, 1.7815, 1.7776, 1.7221, 1.7157, 1.7156, 1.7154, 1.7154, 1.7152, 1.715, 1.7147, 1.6988, 1.5785, 1.5588, 1.6666, 1.5187, 1.517, 1.4932, 1.2151, 0.9999, 1.3452, 1.4965, 0.2945, 1.3786, 0.5643, 1.0101, 0.9433, 0.1427, 0.1159, 0.1997, 0.6235, 1.183, -0.0916, 0.0128, -0.5159, 0.7059, -0.4068, -0.0956, 0.017, -0.0558, 0.1785, -0.2791, 0.3033, 0.0015, 0.2125, 2.0811, 2.0571, 2.0569, 2.0289, 1.9979, 1.9973, 1.9969, 1.9968, 1.9968, 1.9934, 1.9424, 1.9421, 1.9419, 1.9252, 1.9158, 1.888, 1.8453, 1.8452, 1.845, 1.8448, 1.8446, 1.8446, 1.8444, 1.844, 1.8434, 1.8416, 1.8341, 1.8337, 1.8266, 1.8256, 1.7799, 1.7979, 1.7929, 1.7761, 1.7728, 1.7279, 1.2827, 1.6041, 1.2155, 1.2937, 1.7086, 1.7073, 0.6699, 1.7033, 0.73, 1.5983, 1.2942, 0.5722, 1.1388, 0.3954, 0.098, 1.318, 0.3881, 1.0462, 0.7821, -0.1142, 0.1496, 0.1923, 0.6413, 0.4844, -0.0518, 1.0107, 0.0513, 0.3504, -0.1734, 0.3489, -0.0906, -0.2472, -0.4234, 0.329, -0.8856, -0.0537]}, \"token.table\": {\"Topic\": [5, 5, 1, 2, 3, 4, 5, 6, 4, 2, 6, 6, 1, 2, 3, 4, 5, 6, 1, 2, 3, 4, 5, 6, 3, 6, 3, 2, 5, 5, 1, 2, 3, 4, 5, 6, 6, 2, 1, 4, 6, 6, 1, 2, 3, 4, 5, 6, 1, 2, 3, 4, 5, 6, 3, 1, 2, 3, 4, 5, 1, 2, 3, 2, 3, 2, 4, 4, 1, 3, 4, 5, 6, 1, 2, 3, 4, 5, 6, 4, 1, 2, 3, 4, 5, 6, 3, 3, 6, 1, 2, 6, 2, 6, 4, 1, 3, 1, 1, 1, 2, 4, 5, 6, 5, 4, 1, 2, 3, 4, 5, 6, 2, 1, 2, 3, 4, 5, 6, 3, 1, 1, 1, 3, 4, 5, 6, 1, 2, 3, 4, 5, 6, 6, 1, 2, 3, 4, 5, 6, 3, 2, 4, 2, 6, 5, 5, 3, 4, 6, 1, 6, 2, 4, 5, 2, 4, 6, 1, 2, 3, 4, 5, 6, 5, 1, 2, 3, 6, 2, 1, 2, 2, 2, 1, 2, 3, 5, 6, 3, 5, 6, 6, 4, 6, 1, 2, 3, 4, 5, 6, 4, 1, 2, 3, 4, 5, 6, 1, 2, 3, 4, 5, 6, 2, 1, 2, 3, 4, 6, 6, 1, 2, 4, 1, 5, 6, 1, 2, 4, 5, 6, 1, 2, 3, 4, 5, 6, 1, 4, 5, 6, 2, 4, 1, 2, 3, 4, 5, 6, 1, 3, 4, 5, 3, 6, 4, 2, 6, 4, 3, 1, 3, 1, 2, 3, 4, 6, 3, 6, 2, 2, 1, 4, 6, 4, 3, 4, 1, 1, 2, 3, 4, 6, 1, 2, 3, 4, 1, 1, 2, 3, 4, 6, 1, 5, 3, 6, 5, 1, 2, 5, 2, 1, 5, 5, 1, 2, 3, 5, 6, 1, 2, 3, 4, 5, 6, 3, 1, 5, 1, 2, 3, 4, 5, 6, 1, 3, 6, 2, 1, 1, 3, 1, 4, 5, 1, 2, 3, 4, 5, 6, 1, 2, 3, 4, 5, 5, 5, 1, 2, 3, 4, 5, 6, 1, 2, 3, 4, 5, 1, 4, 6, 5, 1, 3, 3, 1, 3, 4, 5, 2, 4, 6, 1, 4, 2, 3, 1, 2, 1, 2, 3, 4, 6, 1, 2, 3, 3, 1, 1, 4, 5, 2, 6, 4, 5, 4, 1, 2, 3, 4, 5, 6, 1, 1, 4, 1, 2, 3, 5, 6, 1, 2, 3, 4, 5, 6, 1, 2, 3, 4, 5, 6, 1, 4, 5, 6, 1, 2, 3, 4, 6, 1, 1, 3, 1, 3, 3, 1, 2, 3, 4, 5, 6, 4, 6, 4, 4, 6, 2, 3, 3, 2, 5, 2, 6, 3, 5, 1, 2, 3, 4, 5, 6, 1, 2, 3, 4, 5, 6, 5, 2, 4, 1, 2, 4, 1, 3, 4, 5, 5, 5, 2, 6, 3, 5, 6, 1, 4, 5, 6, 1, 6, 6, 3, 4, 1, 1, 1, 2, 3, 4, 5, 6, 1, 2, 3, 4, 5, 6, 2, 5, 6, 4, 4, 6, 6, 1, 2, 4, 5, 6, 1, 2, 3, 4, 5, 6, 2, 1, 2, 3, 4, 5, 6, 1, 2, 4, 6, 1, 2, 3, 4, 5, 6, 4, 1, 2, 3, 4, 6, 1, 2, 3, 4, 5, 6, 1, 1, 2, 3, 4, 5, 6, 6, 5, 5, 5, 2, 1, 2, 3, 4, 5, 6, 1, 2, 4, 5, 6, 5, 1, 2, 1, 1, 2, 3, 4, 5, 6, 5, 6, 1, 2, 3, 4, 5, 6, 6, 1, 2, 4, 5, 6, 6, 2, 6, 4, 3, 4, 2, 1, 2, 3, 4, 5, 6, 1, 2, 1, 1, 2, 4, 6, 1, 2, 3, 5, 6, 1, 2, 4, 5, 3, 2, 4, 6, 1, 2, 3, 4, 5, 6, 1, 2, 3, 5, 6, 1, 2, 3, 6, 4, 1, 2, 3, 4, 6, 1, 2, 3, 6, 2, 1, 5, 1, 2, 3, 4, 5, 6, 1, 2, 4, 5, 6, 1, 1, 2, 3, 4, 5, 6, 1, 3, 1, 2, 3, 6, 6, 1, 3, 5, 1, 4, 3, 1, 2, 3, 5, 6, 4, 5, 2, 3, 4, 5, 6, 6, 1, 4, 6, 1, 2, 3, 4, 5, 6, 1, 2, 3, 4, 5, 6, 1, 4, 5, 1, 6, 1, 3, 1, 1, 4, 6, 6, 2, 6, 1, 1, 2, 1, 2, 3, 4, 5, 6, 3, 3, 4, 2, 4, 1, 2, 4, 6, 3, 6, 3, 2, 4, 1], \"Freq\": [0.7182957101376772, 0.7965519945870794, 0.16880505008054597, 0.04220126252013649, 0.08440252504027299, 0.29540883764095544, 0.33761010016109194, 0.04220126252013649, 0.7911934279556527, 0.09633927548565985, 0.8670534793709387, 0.8977362472380641, 0.0749556985366078, 0.0749556985366078, 0.0749556985366078, 0.1499113970732156, 0.44973419121964686, 0.1499113970732156, 0.34499499392300814, 0.15681590632864006, 0.31363181265728013, 0.12545272506291205, 0.03136318126572801, 0.03136318126572801, 0.8397645725316262, 0.8264954386757595, 0.9141725502643635, 0.8652499481152883, 0.8972237348292356, 0.7183001784141869, 0.2787278616269244, 0.10720302370266324, 0.19296544266479382, 0.19296544266479382, 0.08576241896213059, 0.15008423318372854, 0.6235069307778581, 0.7712353627233929, 0.4645094555122692, 0.20644864689434186, 0.3096729703415128, 0.8264642621498403, 0.2649143509024707, 0.20096950758118465, 0.06394484332128603, 0.15529461949455178, 0.1461596418772252, 0.16442959711187835, 0.4428852485047338, 0.12653864242992396, 0.09490398182244297, 0.09490398182244297, 0.06326932121496198, 0.15817330303740496, 0.7838770745566566, 0.14730034634197095, 0.1841254329274637, 0.03682508658549274, 0.22095051951295644, 0.4419010390259129, 0.261033690944484, 0.522067381888968, 0.20882695275558716, 0.9213547127796234, 0.882521983508628, 0.9213798403014566, 0.7911994464559955, 0.5923744912716893, 0.6073089853314134, 0.08281486163610183, 0.02760495387870061, 0.2484445849083055, 0.05520990775740122, 0.3049768054795061, 0.1468406841197622, 0.1581361213597439, 0.09036349791985365, 0.1581361213597439, 0.13554524687978048, 0.7917670726805238, 0.366359356586605, 0.1570111528228307, 0.06978273458792476, 0.1570111528228307, 0.12211978552886833, 0.10467410188188715, 0.9141401810526122, 0.8815710935122271, 0.8264397403360049, 0.04597764744195901, 0.5057541218615491, 0.41379882697763104, 0.7270806165063834, 0.1454161233012767, 0.7911824467743781, 0.14623371000463123, 0.7311685500231562, 0.8577245538280038, 0.9291423270709582, 0.06647342011556556, 0.13294684023113112, 0.465313940808959, 0.06647342011556556, 0.19942026034669671, 0.932381001574693, 0.7911924907993196, 0.2521263531251061, 0.03438086633524174, 0.057301443892069565, 0.011460288778413914, 0.6303158828127652, 0.011460288778413914, 0.8617368254484749, 0.397704622579774, 0.08837880501772756, 0.3314205188164784, 0.02209470125443189, 0.02209470125443189, 0.15466290878102323, 0.9614333854928018, 0.8577486438073252, 0.8578251504860932, 0.066438803963844, 0.132877607927688, 0.4650716277469079, 0.132877607927688, 0.132877607927688, 0.16509525785899562, 0.2614008249434097, 0.35770639202782384, 0.06878969077458151, 0.06878969077458151, 0.06878969077458151, 0.8257992981572538, 0.30507961564136443, 0.19414157358995918, 0.08320353153855393, 0.027734510512851314, 0.027734510512851314, 0.36054863666706705, 0.9137299023797727, 0.9464278316035885, 0.7911832902688176, 0.7799498477687816, 0.1949874619421954, 0.8970269259416043, 0.7182691504556461, 0.10130027642844369, 0.5065013821422185, 0.40520110571377477, 0.3463271633929244, 0.5194907450893866, 0.23653900899783872, 0.47307801799567745, 0.2956737612472984, 0.1405975655013847, 0.6678384361315773, 0.17574695687673086, 0.29228363912527894, 0.2063178629119616, 0.08596577621331734, 0.12035208669864428, 0.22351101815462507, 0.06877262097065387, 0.7965386357875283, 0.8577874498523347, 0.17268124361088857, 0.34536248722177715, 0.4317031090272214, 0.9174244751165784, 0.7588817800639384, 0.12648029667732305, 0.9213621615308422, 0.8654296318452632, 0.22364924024687763, 0.44729848049375526, 0.08945969609875105, 0.1789193921975021, 0.04472984804937553, 0.10926490361430471, 0.7648543253001331, 0.10926490361430471, 0.7509620920670207, 0.20631434718147573, 0.6189430415444273, 0.39440565761114965, 0.28560409689083255, 0.0952013656302775, 0.13600195090039643, 0.04760068281513875, 0.04760068281513875, 0.7911842632626642, 0.27740846656845647, 0.22916351586089884, 0.15679608979956236, 0.10855113909200471, 0.12061237676889412, 0.0964899014151153, 0.21111741540046708, 0.28711968494463525, 0.08444696616018683, 0.05911287631213078, 0.11822575262426156, 0.22800680863250444, 0.9213322130050372, 0.1621787551816142, 0.2702979253026903, 0.1621787551816142, 0.05405958506053807, 0.3243575103632284, 0.6207072126130373, 0.14653481231672244, 0.14653481231672244, 0.5861392492668898, 0.7160829218600261, 0.1432165843720052, 0.7509803688496903, 0.20893297396057947, 0.034822162326763245, 0.12187756814367136, 0.6093878407183568, 0.017411081163381623, 0.5181291522065007, 0.18286911254347085, 0.06095637084782361, 0.06095637084782361, 0.12191274169564723, 0.06095637084782361, 0.2687760873416041, 0.06719402183540102, 0.20158206550620306, 0.4031641310124061, 0.7701702562050639, 0.23105107686151916, 0.17155015411872857, 0.09802865949641631, 0.22056448386693672, 0.29408597848924894, 0.14704298924462447, 0.04901432974820816, 0.10786311647039369, 0.10786311647039369, 0.21572623294078738, 0.5393155823519685, 0.9410106953272481, 0.7510185265217669, 0.8903732579746179, 0.2053163284819802, 0.6159489854459406, 0.7911984485910342, 0.9408990197161746, 0.1170801252998188, 0.8195608770987316, 0.18397523414777608, 0.4599380853694402, 0.18397523414777608, 0.06132507804925869, 0.12265015609851738, 0.2060181309759616, 0.6180543929278848, 0.8653358889021862, 0.8654183134043001, 0.7595807711140712, 0.07995587064358643, 0.15991174128717286, 0.9503543670281188, 0.6431150482307928, 0.3215575241153964, 0.7619491166240441, 0.12216443923863408, 0.4581166471448778, 0.3359522079062437, 0.03054110980965852, 0.06108221961931704, 0.8133451290898555, 0.054223008605990365, 0.054223008605990365, 0.054223008605990365, 0.9497352333206791, 0.06249283687382135, 0.06249283687382135, 0.4999426949905708, 0.18747851062146406, 0.1249856737476427, 0.23687979522435482, 0.7106393856730644, 0.24641978787340246, 0.4928395757468049, 0.8972547878995956, 0.7336982990001819, 0.16304406644448488, 0.08152203322224244, 0.8618248905504914, 0.19761184764982181, 0.5928355429494654, 0.7965463965430875, 0.19847736837389746, 0.5118626868589987, 0.18803119109106076, 0.010446177282836708, 0.09401559554553038, 0.2701050152416634, 0.2475962639715248, 0.11254375635069308, 0.09003500508055447, 0.18007001016110893, 0.09003500508055447, 0.940876274678163, 0.9128946436197108, 0.7982895068135243, 0.2684307809533764, 0.12347815923855314, 0.05368615619067528, 0.16105846857202583, 0.17179569981016088, 0.21474462476270112, 0.7085378089544702, 0.17713445223861754, 0.08856722611930877, 0.7669999470431981, 0.8131100121993867, 0.13005090795517354, 0.7803054477310413, 0.3894607407254891, 0.6231371851607825, 0.7182830908065237, 0.24156532963884797, 0.24156532963884797, 0.053681184364188436, 0.18788414527465952, 0.053681184364188436, 0.21472473745675374, 0.15229124338995564, 0.03807281084748891, 0.22843686508493347, 0.3426552976274002, 0.26650967593242236, 0.7965483079523298, 0.7183502325371948, 0.2036123238280162, 0.26178727349316366, 0.3199622231583112, 0.17452484899544246, 0.02908747483257374, 0.02908747483257374, 0.2027653311372156, 0.1520739983529117, 0.506913327843039, 0.0506913327843039, 0.1013826655686078, 0.7623580398410333, 0.12705967330683887, 0.6235586630543629, 0.7178757199507414, 0.14624852348852627, 0.7312426174426313, 0.9410684181573313, 0.08471572193238545, 0.2541471657971564, 0.08471572193238545, 0.5930100535266982, 0.7712737959573567, 0.7919719614290581, 0.8257933403956954, 0.16784471387850616, 0.6713788555140247, 0.9213860545967233, 0.9141585875707807, 0.8576931143957495, 0.7712684977887837, 0.3149774437602663, 0.3849724312625477, 0.1049924812534221, 0.1399899750045628, 0.0349974937511407, 0.6281120634186388, 0.2284043866976868, 0.1142021933488434, 0.8397616819403891, 0.9129273554518044, 0.2726185250805984, 0.0908728416935328, 0.5452370501611968, 0.24508155315450048, 0.49016310630900095, 0.5945536858920014, 0.19818456196400047, 0.7124659260194045, 0.26762955527584686, 0.19557544424004195, 0.07205411103580492, 0.2264557775411012, 0.13381477763792343, 0.10293444433686418, 0.9130174060787952, 0.14755184964223791, 0.7377592482111895, 0.26317278394732835, 0.1503844479699019, 0.4135572319172302, 0.11278833597742642, 0.03759611199247548, 0.04695169485994368, 0.18780677943977472, 0.5164686434593805, 0.07042754228991552, 0.16433093200980287, 0.02347584742997184, 0.21932952393327024, 0.17546361914661618, 0.043865904786654045, 0.043865904786654045, 0.35092723829323236, 0.15353066675328916, 0.11952148820842631, 0.11952148820842631, 0.5976074410421316, 0.11952148820842631, 0.0714461558024452, 0.7287507891849411, 0.08573538696293424, 0.04286769348146712, 0.08573538696293424, 0.9130412125017864, 0.9290152397732111, 0.8824932427384916, 0.08370328530239782, 0.8370328530239781, 0.9408886695337755, 0.11385530643582414, 0.41746945693135523, 0.11385530643582414, 0.037951768811941386, 0.15180707524776554, 0.15180707524776554, 0.795729778965918, 0.1989324447414795, 0.791205918337923, 0.7649387319546749, 0.2185539234156214, 0.21257749008262758, 0.7440212152891966, 0.9409323746511655, 0.7669046681036634, 0.7181191107928194, 0.20537709436142937, 0.6161312830842881, 0.39683130373993714, 0.5952469556099057, 0.3071354146097853, 0.15356770730489264, 0.1228541658439141, 0.27642187314880673, 0.09214062438293558, 0.06142708292195705, 0.2659654352457365, 0.07978963057372095, 0.18617580467201555, 0.3191585222948838, 0.1063861740982946, 0.02659654352457365, 0.8973751813962694, 0.8931776892467017, 0.7912048896735561, 0.13111951133684166, 0.13111951133684166, 0.78671706802105, 0.2791089864398682, 0.05582179728797364, 0.5023961755917628, 0.11164359457594727, 0.8971852190630336, 0.897180678100689, 0.2045496407485699, 0.6136489222457098, 0.8824996189545069, 0.8969598693850992, 0.8264946794754121, 0.2142409134494592, 0.6427227403483776, 0.1071204567247296, 0.8265068770891372, 0.24520904302193636, 0.613022607554841, 0.880867415719089, 0.7358689886536444, 0.14717379773072886, 0.9494936195490021, 0.9128181754980106, 0.22997184500394943, 0.28107669944927155, 0.08943349527931367, 0.16609077694729682, 0.07665728166798315, 0.16609077694729682, 0.293101942006707, 0.2038970031351005, 0.07646137617566269, 0.17840987774321296, 0.12743562695943783, 0.11469206426349404, 0.17006585586994605, 0.7652963514147572, 0.826296738000273, 0.7912264817592097, 0.791196094123313, 0.833397121749413, 0.8264725376891658, 0.5184377717225306, 0.04320314764354422, 0.08640629528708844, 0.2592188858612653, 0.08640629528708844, 0.24127544341910628, 0.12946487207854482, 0.05884766912661128, 0.3825098493229734, 0.08827150368991693, 0.10004103751523918, 0.7712581720739738, 0.1400533371721655, 0.24509334005128966, 0.4785155686715655, 0.035013334293041376, 0.046684445724055175, 0.046684445724055175, 0.14638414461221527, 0.29276828922443054, 0.43915243383664576, 0.07319207230610764, 0.11955518889165448, 0.09564415111332358, 0.6455980200149342, 0.07173311333499269, 0.07173311333499269, 0.023911037778330896, 0.8904605297266966, 0.106801418965937, 0.427205675863748, 0.1424018919545827, 0.17800236494322835, 0.1424018919545827, 0.2972604525523395, 0.13988727178933624, 0.12240136281566921, 0.2273168166576714, 0.15737318076300327, 0.06994363589466812, 0.8840006148153615, 0.2827298669747851, 0.24946752968363387, 0.2162051923924827, 0.11641818051902914, 0.09978701187345355, 0.04989350593672678, 0.6228270574421152, 0.8988627068928794, 0.8558624306477073, 0.7965381541382753, 0.9214727583744893, 0.2704549908039925, 0.2887909223839242, 0.15127143553443648, 0.09167965789965847, 0.0779277092147097, 0.12376753816453893, 0.24366927108835265, 0.12183463554417633, 0.40611545181392106, 0.12183463554417633, 0.08122309036278422, 0.7965645086716777, 0.8737965866021884, 0.08737965866021884, 0.8577716722228041, 0.24940020523738557, 0.07125720149639587, 0.21377160448918764, 0.14251440299279175, 0.24940020523738557, 0.07125720149639587, 0.7965700071486856, 0.75090233492396, 0.17792805548699822, 0.17792805548699822, 0.3202704998765968, 0.1423424443895986, 0.10675683329219893, 0.10675683329219893, 0.8254854253508727, 0.3722428644281814, 0.21714167091643916, 0.0620404774046969, 0.09306071610704535, 0.2481619096187876, 0.8265034750683071, 0.8615648447458756, 0.897719656298549, 0.7911974485178062, 0.9409309528995287, 0.791199912922837, 0.9213312611916918, 0.23089596586161668, 0.33584867761689696, 0.02099054235105606, 0.16792433880844848, 0.08396216940422424, 0.18891488115950456, 0.2546256217781148, 0.7638768653343444, 0.9132079391326283, 0.13554621882804851, 0.13554621882804851, 0.13554621882804851, 0.5421848753121941, 0.3105591643655425, 0.15527958218277124, 0.42701885100262094, 0.03881989554569281, 0.07763979109138562, 0.06565647584141225, 0.1313129516828245, 0.5909082825727103, 0.19696942752423677, 0.8397506707048564, 0.8653882317726593, 0.7911940167551488, 0.8254716620328169, 0.22101255393200603, 0.14734170262133736, 0.36835425655334336, 0.03683542565533434, 0.03683542565533434, 0.18417712827667168, 0.2652584906323357, 0.185680943442635, 0.37136188688527, 0.10610339625293429, 0.07957754718970071, 0.07240985892835337, 0.6516887303551803, 0.2172295767850601, 0.07240985892835337, 0.5922780749918273, 0.16243166098007925, 0.35734965415617437, 0.09745899658804755, 0.3248633219601585, 0.0649726643920317, 0.7243351921478746, 0.2069529120422499, 0.24639419925082132, 0.49278839850164263, 0.8210149157567793, 0.03685901463297656, 0.9399048731409024, 0.2916944499970807, 0.2414023034458599, 0.18105172758439492, 0.0804674344819533, 0.12070115172292994, 0.09052586379219746, 0.11304073297007947, 0.05652036648503973, 0.5086832983653575, 0.22608146594015893, 0.05652036648503973, 0.8577428190798299, 0.2463204547744282, 0.09237017054041058, 0.18474034108082116, 0.06158011369360705, 0.030790056846803526, 0.40027073900844584, 0.1670570058883954, 0.6682280235535816, 0.050005585667536, 0.200022342670144, 0.400044685340288, 0.350039099672752, 0.7509046724143579, 0.9129694015797166, 0.8397258516695385, 0.8965773563346976, 0.8577391214688013, 0.8903975090357641, 0.7838479345361693, 0.29319255831856356, 0.14659627915928178, 0.14659627915928178, 0.3420579847049908, 0.04886542638642726, 0.7911912385506701, 0.8971758664243485, 0.608503877908178, 0.09361598121664276, 0.09361598121664276, 0.04680799060832138, 0.14042397182496413, 0.8264912402851001, 0.11973911575721224, 0.5986955787860612, 0.2394782315144245, 0.2922963868955441, 0.20158371510037523, 0.05039592877509381, 0.1612669720803002, 0.10079185755018762, 0.19150452934535647, 0.22524368195761738, 0.09653300655326459, 0.3217766885108819, 0.13675509261712482, 0.14479950982989687, 0.07239975491494843, 0.36623075051421533, 0.07324615010284306, 0.5127230507199014, 0.912912657680913, 0.6226538672076488, 0.9129110128750619, 0.9674871641210775, 0.9495255433650333, 0.17001835616450447, 0.5100550684935135, 0.17001835616450447, 0.8264320717568394, 0.6523642365392105, 0.2609456946156842, 0.9129325558895524, 0.9128977255569302, 0.8653033626124061, 0.42455102713188947, 0.1254355307435128, 0.16403107866459365, 0.09648886980270215, 0.05789332188162129, 0.1254355307435128, 0.8826267839237067, 0.9408792423342285, 0.7911958666553044, 0.9213612081490842, 0.8904121199585375, 0.15764335264600754, 0.07882167632300377, 0.7093950869070339, 0.07882167632300377, 0.8825136535924876, 0.6235163386535437, 0.8824886210686878, 0.7718251802110536, 0.1929562950527634, 0.9086839482107466], \"Term\": [\"absorption\", \"accelerometer\", \"achieve\", \"achieve\", \"achieve\", \"achieve\", \"achieve\", \"achieve\", \"adapt\", \"adc\", \"adc\", \"adcs\", \"addition\", \"addition\", \"addition\", \"addition\", \"addition\", \"addition\", \"advantage\", \"advantage\", \"advantage\", \"advantage\", \"advantage\", \"advantage\", \"adversarial\", \"aggressive\", \"agreement\", \"aid\", \"alassb\", \"alignment\", \"also\", \"also\", \"also\", \"also\", \"also\", \"also\", \"altitude\", \"aluminum\", \"amplifier\", \"amplifier\", \"amplifier\", \"amplitude\", \"application\", \"application\", \"application\", \"application\", \"application\", \"application\", \"approach\", \"approach\", \"approach\", \"approach\", \"approach\", \"approach\", \"approximately\", \"array\", \"array\", \"array\", \"array\", \"array\", \"asic\", \"asic\", \"asic\", \"aspect_ratio\", \"assure\", \"attribute\", \"automotive\", \"awareness\", \"band\", \"band\", \"band\", \"band\", \"band\", \"base\", \"base\", \"base\", \"base\", \"base\", \"base\", \"battery\", \"benefit\", \"benefit\", \"benefit\", \"benefit\", \"benefit\", \"benefit\", \"bgr\", \"bgr_pid\", \"biomedical\", \"bit\", \"bit\", \"bit\", \"block\", \"block\", \"boost\", \"business\", \"business\", \"caa\", \"cache\", \"capable\", \"capable\", \"capable\", \"capable\", \"capable\", \"carrier\", \"cascade\", \"cell\", \"cell\", \"cell\", \"cell\", \"cell\", \"cell\", \"cig\", \"circuit\", \"circuit\", \"circuit\", \"circuit\", \"circuit\", \"circuit\", \"client\", \"closure\", \"coherent\", \"combine\", \"combine\", \"combine\", \"combine\", \"combine\", \"commercial\", \"commercial\", \"commercial\", \"commercial\", \"commercial\", \"commercial\", \"commercialize\", \"communication\", \"communication\", \"communication\", \"communication\", \"communication\", \"communication\", \"company\", \"compiler\", \"compliance\", \"computing\", \"computing\", \"concentrate\", \"concentrator\", \"consumption\", \"consumption\", \"consumption\", \"control\", \"control\", \"conversion\", \"conversion\", \"conversion\", \"converter\", \"converter\", \"converter\", \"cost\", \"cost\", \"cost\", \"cost\", \"cost\", \"cost\", \"coupler\", \"cover\", \"critical\", \"critical\", \"critical\", \"dac\", \"damage\", \"damage\", \"date\", \"day\", \"defense\", \"defense\", \"defense\", \"defense\", \"defense\", \"degradation\", \"degradation\", \"degradation\", \"demodulator\", \"deposition\", \"deposition\", \"design\", \"design\", \"design\", \"design\", \"design\", \"design\", \"detiale\", \"develop\", \"develop\", \"develop\", \"develop\", \"develop\", \"develop\", \"device\", \"device\", \"device\", \"device\", \"device\", \"device\", \"dh\", \"digital\", \"digital\", \"digital\", \"digital\", \"digital\", \"dimension\", \"direct\", \"direct\", \"direct\", \"dope\", \"dope\", \"dsp\", \"efficiency\", \"efficiency\", \"efficiency\", \"efficiency\", \"efficiency\", \"effort\", \"effort\", \"effort\", \"effort\", \"effort\", \"effort\", \"element\", \"element\", \"element\", \"element\", \"embed\", \"embed\", \"enable\", \"enable\", \"enable\", \"enable\", \"enable\", \"enable\", \"energy\", \"energy\", \"energy\", \"energy\", \"engineer_substrate\", \"enob\", \"environmental\", \"equipment\", \"equipment\", \"excessive\", \"export\", \"fabless\", \"fabless\", \"fabrication\", \"fabrication\", \"fabrication\", \"fabrication\", \"fabrication\", \"fault\", \"fault\", \"ferroelectric\", \"fet\", \"fiber\", \"fiber\", \"fiber\", \"filter\", \"first\", \"first\", \"formation\", \"foundry\", \"foundry\", \"foundry\", \"foundry\", \"foundry\", \"fpga\", \"fpga\", \"fpga\", \"fpga\", \"fpgas\", \"frequency\", \"frequency\", \"frequency\", \"frequency\", \"frequency\", \"gaas\", \"gaas\", \"gate\", \"gate\", \"globalstar\", \"gps\", \"gps\", \"gps\", \"graphene\", \"grow\", \"grow\", \"guidance\", \"harden\", \"harden\", \"harden\", \"harden\", \"harden\", \"hardness\", \"hardness\", \"hardness\", \"hardness\", \"hardness\", \"hardness\", \"hbi_ip\", \"healthy\", \"help\", \"high\", \"high\", \"high\", \"high\", \"high\", \"high\", \"highly\", \"highly\", \"highly\", \"honeywell\", \"hpa\", \"ic\", \"ic\", \"image\", \"image\", \"inassb\", \"include\", \"include\", \"include\", \"include\", \"include\", \"include\", \"increase\", \"increase\", \"increase\", \"increase\", \"increase\", \"inertial\", \"ingan\", \"integrate\", \"integrate\", \"integrate\", \"integrate\", \"integrate\", \"integrate\", \"integration\", \"integration\", \"integration\", \"integration\", \"integration\", \"interconnect\", \"interconnect\", \"interleave\", \"intermediate\", \"ip\", \"ip\", \"isolate\", \"junction\", \"junction\", \"junction\", \"junction\", \"keep\", \"kw\", \"laalo\", \"ladar\", \"ladar\", \"latch\", \"lead_edge\", \"led\", \"length\", \"level\", \"level\", \"level\", \"level\", \"level\", \"library\", \"library\", \"library\", \"license\", \"lidar\", \"light\", \"light\", \"light\", \"linear\", \"linear\", \"link\", \"link\", \"liquid\", \"low\", \"low\", \"low\", \"low\", \"low\", \"low\", \"lst\", \"management\", \"management\", \"manufacturing\", \"manufacturing\", \"manufacturing\", \"manufacturing\", \"manufacturing\", \"market\", \"market\", \"market\", \"market\", \"market\", \"market\", \"material\", \"material\", \"material\", \"material\", \"material\", \"material\", \"mechanical\", \"mechanical\", \"mechanical\", \"mechanical\", \"memory\", \"memory\", \"memory\", \"memory\", \"memory\", \"memristor\", \"metal_programmable\", \"metrology\", \"microwave\", \"microwave\", \"mil_aero\", \"military\", \"military\", \"military\", \"military\", \"military\", \"military\", \"mmic\", \"mmic\", \"modern\", \"modular\", \"modular\", \"module\", \"module\", \"move\", \"mrc\", \"multijunction\", \"nanoelectronic\", \"nanoelectronic\", \"nanostructure\", \"nanostructure\", \"need\", \"need\", \"need\", \"need\", \"need\", \"need\", \"new\", \"new\", \"new\", \"new\", \"new\", \"new\", \"nipi\", \"nonvolatile\", \"object\", \"optic\", \"optic\", \"optic\", \"optical\", \"optical\", \"optical\", \"optical\", \"optimum\", \"orbital\", \"organization\", \"organization\", \"original\", \"ote\", \"otherwise\", \"output\", \"output\", \"output\", \"overcome\", \"oxide\", \"oxide\", \"oxide_heterostructure\", \"path\", \"path\", \"patient\", \"pdk\", \"performance\", \"performance\", \"performance\", \"performance\", \"performance\", \"performance\", \"phase\", \"phase\", \"phase\", \"phase\", \"phase\", \"phase\", \"photovoltaic\", \"photovoltaic\", \"pld\", \"poc\", \"pod\", \"polar_oxide\", \"popular\", \"potential\", \"potential\", \"potential\", \"potential\", \"potential\", \"power\", \"power\", \"power\", \"power\", \"power\", \"power\", \"prevent\", \"process\", \"process\", \"process\", \"process\", \"process\", \"process\", \"processor\", \"processor\", \"processor\", \"processor\", \"product\", \"product\", \"product\", \"product\", \"product\", \"product\", \"profile\", \"program\", \"program\", \"program\", \"program\", \"program\", \"propose\", \"propose\", \"propose\", \"propose\", \"propose\", \"propose\", \"proton_beam\", \"provide\", \"provide\", \"provide\", \"provide\", \"provide\", \"provide\", \"pulse\", \"quantum_dot\", \"quantum_dot_solar\", \"qwip\", \"rad\", \"radiation\", \"radiation\", \"radiation\", \"radiation\", \"radiation\", \"radiation\", \"range\", \"range\", \"range\", \"range\", \"range\", \"rather\", \"ray\", \"ray\", \"recovery\", \"reduce\", \"reduce\", \"reduce\", \"reduce\", \"reduce\", \"reduce\", \"reflection\", \"relay\", \"reliability\", \"reliability\", \"reliability\", \"reliability\", \"reliability\", \"reliability\", \"repair\", \"requirement\", \"requirement\", \"requirement\", \"requirement\", \"requirement\", \"respond\", \"reticle\", \"ridgetop\", \"rois\", \"roughly\", \"rugate\", \"sasic\", \"satellite\", \"satellite\", \"satellite\", \"satellite\", \"satellite\", \"satellite\", \"scientic\", \"scientic\", \"scientific\", \"self\", \"self\", \"self\", \"self\", \"semiconductor\", \"semiconductor\", \"semiconductor\", \"semiconductor\", \"semiconductor\", \"sensor\", \"sensor\", \"sensor\", \"sensor\", \"service\", \"shore\", \"shortcoming\", \"shuffle\", \"signal\", \"signal\", \"signal\", \"signal\", \"signal\", \"signal\", \"silicon\", \"silicon\", \"silicon\", \"silicon\", \"silicon\", \"single_event\", \"single_event\", \"single_event\", \"single_event\", \"situational\", \"size\", \"size\", \"size\", \"size\", \"size\", \"soc\", \"soc\", \"software_define\", \"software_define\", \"soi\", \"solar\", \"solar\", \"space\", \"space\", \"space\", \"space\", \"space\", \"space\", \"spacecraft\", \"spacecraft\", \"spacecraft\", \"spacecraft\", \"spacecraft\", \"specify\", \"speed\", \"speed\", \"speed\", \"speed\", \"speed\", \"speed\", \"spin\", \"spin\", \"sram\", \"sram\", \"sram\", \"sram\", \"srt\", \"sspa\", \"sst\", \"stability\", \"star\", \"steering\", \"strike\", \"structure\", \"structure\", \"structure\", \"structure\", \"structure\", \"subscale\", \"suffer\", \"support\", \"support\", \"support\", \"support\", \"support\", \"surgery\", \"surveillance\", \"surveillance\", \"surveillance\", \"system\", \"system\", \"system\", \"system\", \"system\", \"system\", \"technology\", \"technology\", \"technology\", \"technology\", \"technology\", \"technology\", \"terrestrial\", \"terrestrial\", \"terrestrial\", \"therapy\", \"thickness\", \"thulium\", \"ti\", \"tissue\", \"tracking\", \"tracking\", \"tracking\", \"transponder\", \"trust\", \"trust\", \"tumor\", \"tunable\", \"upset\", \"use\", \"use\", \"use\", \"use\", \"use\", \"use\", \"valve\", \"variant\", \"variation\", \"variety_different\", \"video\", \"voltage\", \"voltage\", \"voltage\", \"voltage\", \"vulnerable\", \"waveform\", \"width\", \"word\", \"word\", \"zno\"]}, \"R\": 30, \"lambda.step\": 0.01, \"plot.opts\": {\"xlab\": \"PC1\", \"ylab\": \"PC2\"}, \"topic.order\": [4, 5, 1, 2, 6, 3]};\n",
       "\n",
       "function LDAvis_load_lib(url, callback){\n",
       "  var s = document.createElement('script');\n",
       "  s.src = url;\n",
       "  s.async = true;\n",
       "  s.onreadystatechange = s.onload = callback;\n",
       "  s.onerror = function(){console.warn(\"failed to load library \" + url);};\n",
       "  document.getElementsByTagName(\"head\")[0].appendChild(s);\n",
       "}\n",
       "\n",
       "if(typeof(LDAvis) !== \"undefined\"){\n",
       "   // already loaded: just create the visualization\n",
       "   !function(LDAvis){\n",
       "       new LDAvis(\"#\" + \"ldavis_el69691402842081646403594354853\", ldavis_el69691402842081646403594354853_data);\n",
       "   }(LDAvis);\n",
       "}else if(typeof define === \"function\" && define.amd){\n",
       "   // require.js is available: use it to load d3/LDAvis\n",
       "   require.config({paths: {d3: \"https://d3js.org/d3.v5\"}});\n",
       "   require([\"d3\"], function(d3){\n",
       "      window.d3 = d3;\n",
       "      LDAvis_load_lib(\"https://cdn.jsdelivr.net/gh/bmabey/pyLDAvis@3.3.1/pyLDAvis/js/ldavis.v3.0.0.js\", function(){\n",
       "        new LDAvis(\"#\" + \"ldavis_el69691402842081646403594354853\", ldavis_el69691402842081646403594354853_data);\n",
       "      });\n",
       "    });\n",
       "}else{\n",
       "    // require.js not available: dynamically load d3 & LDAvis\n",
       "    LDAvis_load_lib(\"https://d3js.org/d3.v5.js\", function(){\n",
       "         LDAvis_load_lib(\"https://cdn.jsdelivr.net/gh/bmabey/pyLDAvis@3.3.1/pyLDAvis/js/ldavis.v3.0.0.js\", function(){\n",
       "                 new LDAvis(\"#\" + \"ldavis_el69691402842081646403594354853\", ldavis_el69691402842081646403594354853_data);\n",
       "            })\n",
       "         });\n",
       "}\n",
       "</script>"
      ],
      "text/plain": [
       "PreparedData(topic_coordinates=              x         y  topics  cluster       Freq\n",
       "topic                                                \n",
       "3      0.013668  0.013841       1        1  25.351283\n",
       "4     -0.054841  0.055892       2        1  19.262005\n",
       "0     -0.133655 -0.089385       3        1  17.404526\n",
       "1      0.058283  0.040395       4        1  14.007110\n",
       "5      0.112343 -0.104845       5        1  12.887606\n",
       "2      0.004202  0.084104       6        1  11.087470, topic_info=           Term        Freq       Total Category  logprob  loglift\n",
       "430       solar   54.000000   54.000000  Default  30.0000  30.0000\n",
       "398        cell   87.000000   87.000000  Default  29.0000  29.0000\n",
       "16   efficiency   57.000000   57.000000  Default  28.0000  28.0000\n",
       "36        power  169.000000  169.000000  Default  27.0000  27.0000\n",
       "30       memory   69.000000   69.000000  Default  26.0000  26.0000\n",
       "..          ...         ...         ...      ...      ...      ...\n",
       "386       space    8.608610   99.419101   Topic6  -5.0936  -0.2472\n",
       "188  technology    9.025489  124.309813   Topic6  -5.0463  -0.4234\n",
       "134    material    7.024645   45.593497   Topic6  -5.2969   0.3290\n",
       "14       design    6.725008  147.056714   Topic6  -5.3405  -0.8856\n",
       "443     benefit    6.023277   57.320769   Topic6  -5.4507  -0.0537\n",
       "\n",
       "[432 rows x 6 columns], token_table=      Topic      Freq           Term\n",
       "term                                \n",
       "1075      5  0.718296     absorption\n",
       "2179      5  0.796552  accelerometer\n",
       "63        1  0.168805        achieve\n",
       "63        2  0.042201        achieve\n",
       "63        3  0.084403        achieve\n",
       "...     ...       ...            ...\n",
       "1853      6  0.623516       waveform\n",
       "1656      3  0.882489          width\n",
       "1289      2  0.771825           word\n",
       "1289      4  0.192956           word\n",
       "1892      1  0.908684            zno\n",
       "\n",
       "[753 rows x 3 columns], R=30, lambda_step=0.01, plot_opts={'xlab': 'PC1', 'ylab': 'PC2'}, topic_order=[4, 5, 1, 2, 6, 3])"
      ]
     },
     "execution_count": 23,
     "metadata": {},
     "output_type": "execute_result"
    },
    {
     "name": "stderr",
     "output_type": "stream",
     "text": [
      "/Users/amolkale/anaconda3/lib/python3.8/site-packages/past/builtins/misc.py:45: DeprecationWarning: the imp module is deprecated in favour of importlib; see the module's documentation for alternative uses\n",
      "  from imp import reload\n",
      "/Users/amolkale/anaconda3/lib/python3.8/site-packages/past/builtins/misc.py:45: DeprecationWarning: the imp module is deprecated in favour of importlib; see the module's documentation for alternative uses\n",
      "  from imp import reload\n",
      "/Users/amolkale/anaconda3/lib/python3.8/site-packages/past/builtins/misc.py:45: DeprecationWarning: the imp module is deprecated in favour of importlib; see the module's documentation for alternative uses\n",
      "  from imp import reload\n",
      "/Users/amolkale/anaconda3/lib/python3.8/site-packages/past/builtins/misc.py:45: DeprecationWarning: the imp module is deprecated in favour of importlib; see the module's documentation for alternative uses\n",
      "  from imp import reload\n",
      "/Users/amolkale/anaconda3/lib/python3.8/site-packages/past/builtins/misc.py:45: DeprecationWarning: the imp module is deprecated in favour of importlib; see the module's documentation for alternative uses\n",
      "  from imp import reload\n",
      "/Users/amolkale/anaconda3/lib/python3.8/site-packages/past/builtins/misc.py:45: DeprecationWarning: the imp module is deprecated in favour of importlib; see the module's documentation for alternative uses\n",
      "  from imp import reload\n",
      "/Users/amolkale/anaconda3/lib/python3.8/site-packages/past/builtins/misc.py:45: DeprecationWarning: the imp module is deprecated in favour of importlib; see the module's documentation for alternative uses\n",
      "  from imp import reload\n",
      "/Users/amolkale/anaconda3/lib/python3.8/site-packages/past/builtins/misc.py:45: DeprecationWarning: the imp module is deprecated in favour of importlib; see the module's documentation for alternative uses\n",
      "  from imp import reload\n"
     ]
    }
   ],
   "source": [
    "#Displaying the visualization.\n",
    "vis"
   ]
  },
  {
   "cell_type": "markdown",
   "id": "4c1939e5-0966-4267-878d-f3a5f3ccadc8",
   "metadata": {},
   "source": [
    "From the visualization , we can see that our current configuration gives minimum overlap of topic bubbles. So we are confident about our selection."
   ]
  },
  {
   "cell_type": "code",
   "execution_count": null,
   "id": "1d6cdbf4-35e0-4aaf-91f0-4462849b9964",
   "metadata": {},
   "outputs": [],
   "source": []
  }
 ],
 "metadata": {
  "kernelspec": {
   "display_name": "Python 3 (ipykernel)",
   "language": "python",
   "name": "python3"
  },
  "language_info": {
   "codemirror_mode": {
    "name": "ipython",
    "version": 3
   },
   "file_extension": ".py",
   "mimetype": "text/x-python",
   "name": "python",
   "nbconvert_exporter": "python",
   "pygments_lexer": "ipython3",
   "version": "3.8.2"
  }
 },
 "nbformat": 4,
 "nbformat_minor": 5
}
