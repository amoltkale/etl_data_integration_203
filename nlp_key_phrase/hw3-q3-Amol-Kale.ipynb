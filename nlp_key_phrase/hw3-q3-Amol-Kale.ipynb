{
 "cells": [
  {
   "cell_type": "markdown",
   "id": "c634ff42-9c04-419a-b9d0-74f61b82b777",
   "metadata": {},
   "source": [
    "## Part - c"
   ]
  },
  {
   "cell_type": "code",
   "execution_count": 1,
   "id": "68763856-46b9-418b-80d2-8701e3aa1a87",
   "metadata": {},
   "outputs": [],
   "source": [
    "import psycopg2\n",
    "import pandas as pd\n",
    "import re"
   ]
  },
  {
   "cell_type": "code",
   "execution_count": 2,
   "id": "5151cbc1-4731-4d16-8123-386fe680a9b4",
   "metadata": {},
   "outputs": [
    {
     "name": "stdout",
     "output_type": "stream",
     "text": [
      "Radiation hardening\n"
     ]
    }
   ],
   "source": [
    "# import requests module\n",
    "import requests\n",
    "  \n",
    "import json\n",
    "\n",
    "# Making a get request\n",
    "response = requests.get('https://en.wikipedia.org/w/api.php?action=query&list=search&srsearch=radiation%20hardness&utf8=&format=json')\n",
    "\n",
    "json_str = response.json()\n",
    "\n",
    "\n",
    "json_object = json.dumps(json_str, indent = 4) \n",
    "#print(json_object)\n",
    "\n",
    "#type(json_str)\n",
    "\n",
    "# parse x:\n",
    "y = json.loads(json_object)\n",
    "\n",
    "# print response\n",
    "print(y['query']['search'][0]['title'])\n",
    "#json_str\n",
    "  "
   ]
  },
  {
   "cell_type": "code",
   "execution_count": 3,
   "id": "a5876cb4-deac-47c4-8aff-96c892bc598f",
   "metadata": {},
   "outputs": [],
   "source": [
    "def get_json_snippet(url):\n",
    "    response = requests.get(url)\n",
    "    json_str = response.json()\n",
    "    return json_str"
   ]
  },
  {
   "cell_type": "code",
   "execution_count": 4,
   "id": "05fce9e0-44c3-4816-a6ff-3cd5300277ac",
   "metadata": {},
   "outputs": [],
   "source": [
    "#!pip install rake_nltk"
   ]
  },
  {
   "cell_type": "code",
   "execution_count": 5,
   "id": "d12057ac-e9ab-4267-ac96-3e47ac3b0fa8",
   "metadata": {},
   "outputs": [
    {
     "name": "stderr",
     "output_type": "stream",
     "text": [
      "[nltk_data] Downloading package punkt to /Users/amolkale/nltk_data...\n",
      "[nltk_data]   Package punkt is already up-to-date!\n"
     ]
    },
    {
     "data": {
      "text/plain": [
       "True"
      ]
     },
     "execution_count": 5,
     "metadata": {},
     "output_type": "execute_result"
    }
   ],
   "source": [
    "#Important to download punkt before using Rake\n",
    "import nltk\n",
    "nltk.download('punkt')"
   ]
  },
  {
   "cell_type": "code",
   "execution_count": 6,
   "id": "912893b7-fb6c-4015-82a9-9f97c8c3f0c2",
   "metadata": {},
   "outputs": [],
   "source": [
    "from rake_nltk import Rake\n",
    "from rake_nltk import Metric\n",
    "r = Rake(max_length=4, min_length=2, ranking_metric=Metric.DEGREE_TO_FREQUENCY_RATIO, include_repeated_phrases=False)"
   ]
  },
  {
   "cell_type": "code",
   "execution_count": 7,
   "id": "09ef9350-ff81-4991-a4cc-359b25923bbb",
   "metadata": {},
   "outputs": [
    {
     "name": "stderr",
     "output_type": "stream",
     "text": [
      "[nltk_data] Downloading package stopwords to\n",
      "[nltk_data]     /Users/amolkale/nltk_data...\n",
      "[nltk_data]   Package stopwords is already up-to-date!\n"
     ]
    },
    {
     "data": {
      "text/plain": [
       "True"
      ]
     },
     "execution_count": 7,
     "metadata": {},
     "output_type": "execute_result"
    }
   ],
   "source": [
    "import nltk; \n",
    "nltk.download('stopwords')"
   ]
  },
  {
   "cell_type": "code",
   "execution_count": 8,
   "id": "6f3037cf-d65e-44f0-a56b-aaa32bab667c",
   "metadata": {},
   "outputs": [],
   "source": [
    "def getPSQLConn():\n",
    "    return psycopg2.connect(database=\"dse203\",\n",
    "                        host=\"localhost\",\n",
    "                        user=\"postgres\",\n",
    "                        password=\"admin\",\n",
    "                        port=\"5432\")"
   ]
  },
  {
   "cell_type": "code",
   "execution_count": 9,
   "id": "9568b4e5-526a-4599-acf8-bbf923bc285a",
   "metadata": {},
   "outputs": [],
   "source": [
    "conn = getPSQLConn()\n",
    "cursor = conn.cursor()"
   ]
  },
  {
   "cell_type": "code",
   "execution_count": 10,
   "id": "1c46534e-6964-441e-ac63-1f97579c75fd",
   "metadata": {},
   "outputs": [],
   "source": [
    "#Choosing company name \"Department of Defense - Army\" for key phrases\n",
    "companyName = \"Department of Defense - Army\"\n",
    "\n",
    "sql = '''select \"Abstract\" from (select case\n",
    "\t\t   when \"Branch\" is null then \"Agency\"\n",
    "\t\t   else \"Agency\" || ' - ' || \"Branch\"\n",
    "\t\t   end as funder, \"Abstract\"\n",
    "        FROM award_data) as f_a\n",
    "        WHERE \"Abstract\" like '%radiation hardness%' \n",
    "        AND funder = \\''''+companyName+\"\\'\"\n",
    "cursor.execute(sql)\n",
    "result= cursor.fetchall()\n",
    "conn.close()"
   ]
  },
  {
   "cell_type": "code",
   "execution_count": 11,
   "id": "a12b8d60-de4c-4f3e-bbc3-a45a58ae46e8",
   "metadata": {},
   "outputs": [],
   "source": [
    "#Data pruning\n",
    "data = [str(t[0]) for t in result]\n",
    "\n",
    "# Remove Emails\n",
    "data = [re.sub('\\S*@\\S*\\s?', '', str(sent)) for sent in data]\n",
    "\n",
    "# Remove new line characters\n",
    "data = [re.sub('\\s+', ' ', str(sent)) for sent in data]\n",
    "\n",
    "# Remove distracting single quotes\n",
    "data = [re.sub(\"\\'\", \"\", str(sent)) for sent in data]\n",
    "\n",
    "# Remove distracting pesky characters\n",
    "data = [re.sub(\"\\“\", \"\", str(sent)) for sent in data]\n",
    "data = [re.sub(\"\\)\", \"\", str(sent)) for sent in data]\n",
    "data = [re.sub(\"\\-\", \"\", str(sent)) for sent in data]\n",
    "data = [re.sub(\"[0-9]+\", \"\", str(sent)) for sent in data]\n",
    "data = [re.sub(\"\\–\", \"\", str(sent)) for sent in data]"
   ]
  },
  {
   "cell_type": "code",
   "execution_count": 12,
   "id": "f4ee9f85-1481-47f8-bc4a-025bc947c774",
   "metadata": {},
   "outputs": [],
   "source": [
    "#Extracting key words from all the Abstract texts\n",
    "r.extract_keywords_from_sentences(data)\n"
   ]
  },
  {
   "cell_type": "code",
   "execution_count": 13,
   "id": "ced0b231-fa47-49d1-a256-f3cb6bcb86f9",
   "metadata": {},
   "outputs": [],
   "source": [
    "#Get the key phrases along with the ranked scores.\n",
    "score_key_phrase =  r.get_ranked_phrases_with_scores()"
   ]
  },
  {
   "cell_type": "code",
   "execution_count": 14,
   "id": "b8a9258d-5f8d-4a22-8e77-44c8bd022fef",
   "metadata": {},
   "outputs": [
    {
     "data": {
      "text/plain": [
       "[(16.0, 'crosslinked liquid crystal polymer'),\n",
       " (16.0, 'available cornerstone research group'),\n",
       " (15.666666666666666, 'jamming level laser threat'),\n",
       " (15.5, 'nanoscale magnetic tunnel junctions'),\n",
       " (15.5, 'achieved using recent advances'),\n",
       " (14.75, 'highperformance rejection filter centered'),\n",
       " (14.666666666666666, 'vehicleprotection tasks demand ultrafast'),\n",
       " (14.166666666666666, 'single crystal zno substrates'),\n",
       " (14.0, 'microsecond time scale measurements'),\n",
       " (14.0, 'host different army waveforms')]"
      ]
     },
     "execution_count": 14,
     "metadata": {},
     "output_type": "execute_result"
    }
   ],
   "source": [
    "#Displaying top 10 key phrases with score\n",
    "score_key_phrase[:10]"
   ]
  },
  {
   "cell_type": "code",
   "execution_count": 15,
   "id": "4f46db20-7572-4296-b5d2-cbd911c93e09",
   "metadata": {},
   "outputs": [],
   "source": [
    "#Using threshold of score > 8.0 to pick important phrases.\n",
    "key_phrases = [kp[1] for kp in score_key_phrase if kp[0] > 8.0]"
   ]
  },
  {
   "cell_type": "code",
   "execution_count": 16,
   "id": "6a142eae-476f-45dc-b632-b05058b80e32",
   "metadata": {},
   "outputs": [
    {
     "data": {
      "text/plain": [
       "['crosslinked liquid crystal polymer',\n",
       " 'available cornerstone research group',\n",
       " 'jamming level laser threat',\n",
       " 'nanoscale magnetic tunnel junctions',\n",
       " 'achieved using recent advances',\n",
       " 'highperformance rejection filter centered',\n",
       " 'vehicleprotection tasks demand ultrafast',\n",
       " 'single crystal zno substrates',\n",
       " 'microsecond time scale measurements',\n",
       " 'host different army waveforms']"
      ]
     },
     "execution_count": 16,
     "metadata": {},
     "output_type": "execute_result"
    }
   ],
   "source": [
    "#Displaying top 10 key phrases\n",
    "key_phrases[:10]"
   ]
  },
  {
   "cell_type": "code",
   "execution_count": 17,
   "id": "5bd76c76-adc4-4e2f-b73e-0207e51aed37",
   "metadata": {},
   "outputs": [],
   "source": [
    "#This routine creates a wikipedia url to be used using key phrases.\n",
    "def create_wikipedia_url(text):\n",
    "    text = text.replace(\" \", \"%20\")\n",
    "    url = 'https://en.wikipedia.org/w/api.php?action=query&list=search&srsearch={0}&utf8=&format=json'.format(text)\n",
    "    return url"
   ]
  },
  {
   "cell_type": "code",
   "execution_count": 18,
   "id": "a52a721b-7eef-47cb-b9c9-2ea9c8030447",
   "metadata": {},
   "outputs": [],
   "source": [
    "output_df = pd.DataFrame()\n",
    "for txt in key_phrases:\n",
    "    #print(txt)\n",
    "    url = create_wikipedia_url(txt)\n",
    "    full_json = get_json_snippet(url)\n",
    "    json_object = json.dumps(full_json, indent = 4) \n",
    "    y = json.loads(json_object)\n",
    "    \n",
    "    try:\n",
    "        title = y['query']['search'][0]['title']\n",
    "        snippet =  y['query']['search'][0]['snippet']\n",
    "    except IndexError:\n",
    "        title = None\n",
    "        #print(\"Index Error\")\n",
    "    except:\n",
    "        print(\"Something else went wrong\")\n",
    "    output_df = output_df.append({'CompanyName':companyName,'Keyphrase':txt,'Wikipedia title':title,'Wikipedia snippet':snippet}, ignore_index=True)\n",
    "    "
   ]
  },
  {
   "cell_type": "code",
   "execution_count": 19,
   "id": "7f14ba25-2445-4f1a-a097-c0ed84c271e2",
   "metadata": {},
   "outputs": [
    {
     "data": {
      "text/html": [
       "<div>\n",
       "<style scoped>\n",
       "    .dataframe tbody tr th:only-of-type {\n",
       "        vertical-align: middle;\n",
       "    }\n",
       "\n",
       "    .dataframe tbody tr th {\n",
       "        vertical-align: top;\n",
       "    }\n",
       "\n",
       "    .dataframe thead th {\n",
       "        text-align: right;\n",
       "    }\n",
       "</style>\n",
       "<table border=\"1\" class=\"dataframe\">\n",
       "  <thead>\n",
       "    <tr style=\"text-align: right;\">\n",
       "      <th></th>\n",
       "      <th>CompanyName</th>\n",
       "      <th>Keyphrase</th>\n",
       "      <th>Wikipedia title</th>\n",
       "      <th>Wikipedia snippet</th>\n",
       "    </tr>\n",
       "  </thead>\n",
       "  <tbody>\n",
       "    <tr>\n",
       "      <th>0</th>\n",
       "      <td>Department of Defense - Army</td>\n",
       "      <td>crosslinked liquid crystal polymer</td>\n",
       "      <td>Liquid-crystal polymer</td>\n",
       "      <td>&lt;span class=\"searchmatch\"&gt;Liquid&lt;/span&gt; &lt;span ...</td>\n",
       "    </tr>\n",
       "    <tr>\n",
       "      <th>1</th>\n",
       "      <td>Department of Defense - Army</td>\n",
       "      <td>available cornerstone research group</td>\n",
       "      <td>Berkeley Research Group</td>\n",
       "      <td>Analysis &lt;span class=\"searchmatch\"&gt;Group&lt;/span...</td>\n",
       "    </tr>\n",
       "    <tr>\n",
       "      <th>2</th>\n",
       "      <td>Department of Defense - Army</td>\n",
       "      <td>jamming level laser threat</td>\n",
       "      <td>USSS Electronic Countermeasures Suburban</td>\n",
       "      <td>barrage &lt;span class=\"searchmatch\"&gt;jamming&lt;/spa...</td>\n",
       "    </tr>\n",
       "    <tr>\n",
       "      <th>3</th>\n",
       "      <td>Department of Defense - Army</td>\n",
       "      <td>nanoscale magnetic tunnel junctions</td>\n",
       "      <td>Nanotechnology</td>\n",
       "      <td>therefore common to see the plural form &amp;quot;...</td>\n",
       "    </tr>\n",
       "    <tr>\n",
       "      <th>4</th>\n",
       "      <td>Department of Defense - Army</td>\n",
       "      <td>achieved using recent advances</td>\n",
       "      <td>Recent human evolution</td>\n",
       "      <td>twenty-first-century &lt;span class=\"searchmatch\"...</td>\n",
       "    </tr>\n",
       "    <tr>\n",
       "      <th>...</th>\n",
       "      <td>...</td>\n",
       "      <td>...</td>\n",
       "      <td>...</td>\n",
       "      <td>...</td>\n",
       "    </tr>\n",
       "    <tr>\n",
       "      <th>57</th>\n",
       "      <td>Department of Defense - Army</td>\n",
       "      <td>efficient light emitter</td>\n",
       "      <td>OLED</td>\n",
       "      <td>An organic &lt;span class=\"searchmatch\"&gt;light&lt;/sp...</td>\n",
       "    </tr>\n",
       "    <tr>\n",
       "      <th>58</th>\n",
       "      <td>Department of Defense - Army</td>\n",
       "      <td>current materials used</td>\n",
       "      <td>Magnet</td>\n",
       "      <td>several other types of magnetism. Ferromagneti...</td>\n",
       "    </tr>\n",
       "    <tr>\n",
       "      <th>59</th>\n",
       "      <td>Department of Defense - Army</td>\n",
       "      <td>lowpower microwave signals</td>\n",
       "      <td>IEEE Kiyo Tomiyasu Award</td>\n",
       "      <td>contributions to nano-materials, devices, circ...</td>\n",
       "    </tr>\n",
       "    <tr>\n",
       "      <th>60</th>\n",
       "      <td>Department of Defense - Army</td>\n",
       "      <td>process technology necessary</td>\n",
       "      <td>Open Platform Communications</td>\n",
       "      <td>reflects the applications of OPC &lt;span class=\"...</td>\n",
       "    </tr>\n",
       "    <tr>\n",
       "      <th>61</th>\n",
       "      <td>Department of Defense - Army</td>\n",
       "      <td>multiple frequency programmability</td>\n",
       "      <td>Frequency-hopping spread spectrum</td>\n",
       "      <td>eavesdropping, and to enable code-division &lt;sp...</td>\n",
       "    </tr>\n",
       "  </tbody>\n",
       "</table>\n",
       "<p>62 rows × 4 columns</p>\n",
       "</div>"
      ],
      "text/plain": [
       "                     CompanyName                             Keyphrase  \\\n",
       "0   Department of Defense - Army    crosslinked liquid crystal polymer   \n",
       "1   Department of Defense - Army  available cornerstone research group   \n",
       "2   Department of Defense - Army            jamming level laser threat   \n",
       "3   Department of Defense - Army   nanoscale magnetic tunnel junctions   \n",
       "4   Department of Defense - Army        achieved using recent advances   \n",
       "..                           ...                                   ...   \n",
       "57  Department of Defense - Army               efficient light emitter   \n",
       "58  Department of Defense - Army                current materials used   \n",
       "59  Department of Defense - Army            lowpower microwave signals   \n",
       "60  Department of Defense - Army          process technology necessary   \n",
       "61  Department of Defense - Army    multiple frequency programmability   \n",
       "\n",
       "                             Wikipedia title  \\\n",
       "0                     Liquid-crystal polymer   \n",
       "1                    Berkeley Research Group   \n",
       "2   USSS Electronic Countermeasures Suburban   \n",
       "3                             Nanotechnology   \n",
       "4                     Recent human evolution   \n",
       "..                                       ...   \n",
       "57                                      OLED   \n",
       "58                                    Magnet   \n",
       "59                  IEEE Kiyo Tomiyasu Award   \n",
       "60              Open Platform Communications   \n",
       "61         Frequency-hopping spread spectrum   \n",
       "\n",
       "                                    Wikipedia snippet  \n",
       "0   <span class=\"searchmatch\">Liquid</span> <span ...  \n",
       "1   Analysis <span class=\"searchmatch\">Group</span...  \n",
       "2   barrage <span class=\"searchmatch\">jamming</spa...  \n",
       "3   therefore common to see the plural form &quot;...  \n",
       "4   twenty-first-century <span class=\"searchmatch\"...  \n",
       "..                                                ...  \n",
       "57  An organic <span class=\"searchmatch\">light</sp...  \n",
       "58  several other types of magnetism. Ferromagneti...  \n",
       "59  contributions to nano-materials, devices, circ...  \n",
       "60  reflects the applications of OPC <span class=\"...  \n",
       "61  eavesdropping, and to enable code-division <sp...  \n",
       "\n",
       "[62 rows x 4 columns]"
      ]
     },
     "execution_count": 19,
     "metadata": {},
     "output_type": "execute_result"
    }
   ],
   "source": [
    "#Displaying the final ouput.\n",
    "output_df"
   ]
  },
  {
   "cell_type": "code",
   "execution_count": null,
   "id": "fe68a9ab-028f-4c3e-8c50-5e4ecfb25460",
   "metadata": {},
   "outputs": [],
   "source": []
  }
 ],
 "metadata": {
  "kernelspec": {
   "display_name": "Python 3 (ipykernel)",
   "language": "python",
   "name": "python3"
  },
  "language_info": {
   "codemirror_mode": {
    "name": "ipython",
    "version": 3
   },
   "file_extension": ".py",
   "mimetype": "text/x-python",
   "name": "python",
   "nbconvert_exporter": "python",
   "pygments_lexer": "ipython3",
   "version": "3.8.2"
  }
 },
 "nbformat": 4,
 "nbformat_minor": 5
}
