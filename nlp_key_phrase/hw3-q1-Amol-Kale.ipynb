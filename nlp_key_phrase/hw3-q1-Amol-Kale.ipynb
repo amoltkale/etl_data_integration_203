{
 "cells": [
  {
   "cell_type": "markdown",
   "id": "252cda75-e0dd-4623-9871-00d71fc793cb",
   "metadata": {},
   "source": [
    "### Part-(a)"
   ]
  },
  {
   "cell_type": "markdown",
   "id": "55bb7ee3-e50d-4caf-963e-f7401618df28",
   "metadata": {},
   "source": [
    "**(a) For each award, create a table (eg., pandas dataframe) with two columns, one is the recordid, and another column is a list of persons and organizations (except the name of the proposing organization which is in the Company column) specified using NER. You may need to pre-process the company name before eliminating it. For example, for a company called ABC Inc., you may want to remove the substring \"Inc.\" (and others like LLC, Corp, etc.)**"
   ]
  },
  {
   "cell_type": "code",
   "execution_count": 1,
   "id": "31d62c59-5fa2-4787-8a98-842198f46fcb",
   "metadata": {},
   "outputs": [],
   "source": [
    "#!pip install psycopg2-binary"
   ]
  },
  {
   "cell_type": "code",
   "execution_count": 2,
   "id": "f21d0d96-1713-44c0-b96b-e85e53faf224",
   "metadata": {},
   "outputs": [],
   "source": [
    "#!pip install spacy"
   ]
  },
  {
   "cell_type": "code",
   "execution_count": 3,
   "id": "795459ec-c848-4995-a0fb-2f83d8bc564a",
   "metadata": {},
   "outputs": [],
   "source": [
    "#!python -m spacy download en_core_web_sm"
   ]
  },
  {
   "cell_type": "code",
   "execution_count": 4,
   "id": "f6bd3abd-f4ea-422f-b9fa-c7f7f24089d4",
   "metadata": {},
   "outputs": [],
   "source": [
    "from nltk.tokenize.treebank import TreebankWordDetokenizer\n"
   ]
  },
  {
   "cell_type": "code",
   "execution_count": 5,
   "id": "bdfc6021-066f-4e75-ab97-ad845a589656",
   "metadata": {},
   "outputs": [],
   "source": [
    "import psycopg2\n",
    "import pandas as pd\n",
    "from nltk.tokenize import word_tokenize\n",
    "import string"
   ]
  },
  {
   "cell_type": "code",
   "execution_count": 6,
   "id": "bb9ddfd9-41d6-4842-84b5-e74b524a7807",
   "metadata": {},
   "outputs": [],
   "source": [
    "import spacy\n",
    "nlp_spacy = spacy.load(\"en_core_web_sm\")"
   ]
  },
  {
   "cell_type": "code",
   "execution_count": 7,
   "id": "bf114706-12b2-4e37-8f30-9495dffd5630",
   "metadata": {},
   "outputs": [],
   "source": [
    "conn = psycopg2.connect(database=\"dse203\",\n",
    "                        host=\"localhost\",\n",
    "                        user=\"postgres\",\n",
    "                        password=\"admin\",\n",
    "                        port=\"5432\")"
   ]
  },
  {
   "cell_type": "code",
   "execution_count": 8,
   "id": "2c46aa77-6729-4133-92af-4b58db80db25",
   "metadata": {},
   "outputs": [],
   "source": [
    "cursor = conn.cursor()"
   ]
  },
  {
   "cell_type": "code",
   "execution_count": 9,
   "id": "3387b270-6816-4685-bfc8-824692f64fc5",
   "metadata": {},
   "outputs": [],
   "source": [
    "sql = '''SELECT \"RecordID\",\"Abstract\",\"Company\"\n",
    "                FROM award_data \n",
    "                WHERE \"Abstract\" like '%radiation hardness%'\n",
    "                '''\n",
    "\n",
    "cursor.execute(sql)\n",
    "result = cursor.fetchall()\n",
    "conn.close()"
   ]
  },
  {
   "cell_type": "code",
   "execution_count": 10,
   "id": "3b70dab6-5970-42df-b012-2cfd0a8ce63c",
   "metadata": {},
   "outputs": [],
   "source": [
    "#dataframe to save the final list of persons and org names\n",
    "output_df = pd.DataFrame()"
   ]
  },
  {
   "cell_type": "code",
   "execution_count": 11,
   "id": "93529384-1230-4d72-9385-12c869ba1945",
   "metadata": {},
   "outputs": [],
   "source": [
    "#This routine checks if two organization names match ?\n",
    "def is_matching_org(org_name,proposed_name):\n",
    "    proposed_name = proposed_name.translate(proposed_name.maketrans('','', string.punctuation)).lower()\n",
    "    word_tokens = word_tokenize(proposed_name)\n",
    "    \n",
    "    #This is custom stop words we want to remove\n",
    "    stop_words = {'inc','corp','llc'}\n",
    "    \n",
    "    #removing stop words\n",
    "    filtered_proposed_name = [w for w in word_tokens if not w.lower() in stop_words]\n",
    "    \n",
    "    #De-tokenize to comparing org. names\n",
    "    filtered_proposed_name = TreebankWordDetokenizer().detokenize(filtered_proposed_name)\n",
    "    \n",
    "    org_name = org_name.translate(proposed_name.maketrans('','', string.punctuation)).lower()\n",
    "    \n",
    "    #If org names match return true\n",
    "    if(org_name==filtered_proposed_name):\n",
    "        return True\n",
    "    else:\n",
    "        return False"
   ]
  },
  {
   "cell_type": "code",
   "execution_count": 12,
   "id": "41880d82-80a6-44f2-9ce0-5a65632c0d35",
   "metadata": {},
   "outputs": [],
   "source": [
    "#This part goes through the results from SQL query and adds the required results to a dataframe\n",
    "\n",
    "for x in result:\n",
    "\n",
    "    rec_id = int(x[0])\n",
    "    doc_spacy = nlp_spacy(x[1])\n",
    "    persons = set()\n",
    "    orgs = set()\n",
    "    \n",
    "    #USing Spacy NER finding out persons and organizations\n",
    "    for ent in doc_spacy.ents:\n",
    "        if(ent.label_=='PERSON'):\n",
    "            persons.add(ent.text)\n",
    "            \n",
    "        elif(ent.label_=='ORG'):\n",
    "            orgs.add(ent.text)\n",
    "             \n",
    "    #company name from our data            \n",
    "    company = x[2]\n",
    "    \n",
    "    #Creating a copy of all the organization NER identified \n",
    "    orgs_new = orgs.copy()\n",
    "    \n",
    "    for org_name in orgs:\n",
    "        #Checking of the Company Name is already present in our list\n",
    "        orgs_company_match = is_matching_org(org_name,company)\n",
    "        \n",
    "    \n",
    "        if(orgs_company_match):\n",
    "            #Removing the Company name from our identified organization list\n",
    "            orgs_new.remove(org_name)\n",
    "    \n",
    "    #Adding our required records to dataframe.\n",
    "    output_df = output_df.append({'rec_id':rec_id,'persons':persons, 'orgs':orgs_new,'company':company}, ignore_index=True)"
   ]
  },
  {
   "cell_type": "code",
   "execution_count": 13,
   "id": "3320661a-7efc-4336-84fe-aaa05ed81bba",
   "metadata": {},
   "outputs": [],
   "source": [
    "pd.set_option('display.max_colwidth', None)"
   ]
  },
  {
   "cell_type": "code",
   "execution_count": 14,
   "id": "fef6f1a5-2ab3-4a79-bef5-3f7a34d02879",
   "metadata": {},
   "outputs": [
    {
     "data": {
      "text/html": [
       "<div>\n",
       "<style scoped>\n",
       "    .dataframe tbody tr th:only-of-type {\n",
       "        vertical-align: middle;\n",
       "    }\n",
       "\n",
       "    .dataframe tbody tr th {\n",
       "        vertical-align: top;\n",
       "    }\n",
       "\n",
       "    .dataframe thead th {\n",
       "        text-align: right;\n",
       "    }\n",
       "</style>\n",
       "<table border=\"1\" class=\"dataframe\">\n",
       "  <thead>\n",
       "    <tr style=\"text-align: right;\">\n",
       "      <th></th>\n",
       "      <th>rec_id</th>\n",
       "      <th>persons</th>\n",
       "      <th>orgs</th>\n",
       "      <th>company</th>\n",
       "    </tr>\n",
       "  </thead>\n",
       "  <tbody>\n",
       "    <tr>\n",
       "      <th>0</th>\n",
       "      <td>101.0</td>\n",
       "      <td>{Alphacore, Exoatmospheric Kill Vehicle}</td>\n",
       "      <td>{PCB, CMOS, GaN, AC, DC-DC, POL}</td>\n",
       "      <td>Alphacore, Inc.</td>\n",
       "    </tr>\n",
       "    <tr>\n",
       "      <th>1</th>\n",
       "      <td>432.0</td>\n",
       "      <td>{Phase II FRIB}</td>\n",
       "      <td>{the Facility for Rare Isotope Beams, Success, Advent Technologies, CVD, GLCT, Michigan State University, FRIB}</td>\n",
       "      <td>Great Lakes Crystal Technologies, Inc.</td>\n",
       "    </tr>\n",
       "    <tr>\n",
       "      <th>2</th>\n",
       "      <td>156.0</td>\n",
       "      <td>{}</td>\n",
       "      <td>{}</td>\n",
       "      <td>BLUESHIFT OPTICS LLC</td>\n",
       "    </tr>\n",
       "    <tr>\n",
       "      <th>3</th>\n",
       "      <td>160.0</td>\n",
       "      <td>{}</td>\n",
       "      <td>{Neutron, Hg2Br2, COTS, Brimrose, SiPM, DOE, neutron detection}</td>\n",
       "      <td>BRIMROSE TECHNOLOGY CORPORATION</td>\n",
       "    </tr>\n",
       "    <tr>\n",
       "      <th>4</th>\n",
       "      <td>250.0</td>\n",
       "      <td>{}</td>\n",
       "      <td>{Fermilab, RF, the Relativistic Heavy Ion Collider}</td>\n",
       "      <td>Caporus Technologies, LLC</td>\n",
       "    </tr>\n",
       "    <tr>\n",
       "      <th>...</th>\n",
       "      <td>...</td>\n",
       "      <td>...</td>\n",
       "      <td>...</td>\n",
       "      <td>...</td>\n",
       "    </tr>\n",
       "    <tr>\n",
       "      <th>367</th>\n",
       "      <td>170647.0</td>\n",
       "      <td>{}</td>\n",
       "      <td>{Harvard University, CCD, Transport of Radiation in Matter, the Charge Transfer Efficiency}</td>\n",
       "      <td>Princeton Optronics</td>\n",
       "    </tr>\n",
       "    <tr>\n",
       "      <th>368</th>\n",
       "      <td>163576.0</td>\n",
       "      <td>{}</td>\n",
       "      <td>{NETD, GaAs, the Minnesota Consortium for Defense Conversion, BMDO}</td>\n",
       "      <td>Top-Vu Technology, Inc.</td>\n",
       "    </tr>\n",
       "    <tr>\n",
       "      <th>369</th>\n",
       "      <td>163577.0</td>\n",
       "      <td>{}</td>\n",
       "      <td>{GaAs, GaAas}</td>\n",
       "      <td>Top-Vu Technology, Inc.</td>\n",
       "    </tr>\n",
       "    <tr>\n",
       "      <th>370</th>\n",
       "      <td>164801.0</td>\n",
       "      <td>{}</td>\n",
       "      <td>{Bond Etchback SOI, CMOS, Silicon, Epitaxial Layer Overgrowth, CVD, SOD, SOS, SOI}</td>\n",
       "      <td>Crystallume/edi</td>\n",
       "    </tr>\n",
       "    <tr>\n",
       "      <th>371</th>\n",
       "      <td>166215.0</td>\n",
       "      <td>{}</td>\n",
       "      <td>{GMR, Static RAM, Giant Magnetoresistance Ratio, MRAM}</td>\n",
       "      <td>NVE CORP. (FORMERLY NONVOLATILE ELECTRONICS, INC.</td>\n",
       "    </tr>\n",
       "  </tbody>\n",
       "</table>\n",
       "<p>372 rows × 4 columns</p>\n",
       "</div>"
      ],
      "text/plain": [
       "       rec_id                                   persons  \\\n",
       "0       101.0  {Alphacore, Exoatmospheric Kill Vehicle}   \n",
       "1       432.0                           {Phase II FRIB}   \n",
       "2       156.0                                        {}   \n",
       "3       160.0                                        {}   \n",
       "4       250.0                                        {}   \n",
       "..        ...                                       ...   \n",
       "367  170647.0                                        {}   \n",
       "368  163576.0                                        {}   \n",
       "369  163577.0                                        {}   \n",
       "370  164801.0                                        {}   \n",
       "371  166215.0                                        {}   \n",
       "\n",
       "                                                                                                                orgs  \\\n",
       "0                                                                                   {PCB, CMOS, GaN, AC, DC-DC, POL}   \n",
       "1    {the Facility for Rare Isotope Beams, Success, Advent Technologies, CVD, GLCT, Michigan State University, FRIB}   \n",
       "2                                                                                                                 {}   \n",
       "3                                                    {Neutron, Hg2Br2, COTS, Brimrose, SiPM, DOE, neutron detection}   \n",
       "4                                                                {Fermilab, RF, the Relativistic Heavy Ion Collider}   \n",
       "..                                                                                                               ...   \n",
       "367                      {Harvard University, CCD, Transport of Radiation in Matter, the Charge Transfer Efficiency}   \n",
       "368                                              {NETD, GaAs, the Minnesota Consortium for Defense Conversion, BMDO}   \n",
       "369                                                                                                    {GaAs, GaAas}   \n",
       "370                               {Bond Etchback SOI, CMOS, Silicon, Epitaxial Layer Overgrowth, CVD, SOD, SOS, SOI}   \n",
       "371                                                           {GMR, Static RAM, Giant Magnetoresistance Ratio, MRAM}   \n",
       "\n",
       "                                               company  \n",
       "0                                      Alphacore, Inc.  \n",
       "1               Great Lakes Crystal Technologies, Inc.  \n",
       "2                                 BLUESHIFT OPTICS LLC  \n",
       "3                      BRIMROSE TECHNOLOGY CORPORATION  \n",
       "4                            Caporus Technologies, LLC  \n",
       "..                                                 ...  \n",
       "367                                Princeton Optronics  \n",
       "368                            Top-Vu Technology, Inc.  \n",
       "369                            Top-Vu Technology, Inc.  \n",
       "370                                    Crystallume/edi  \n",
       "371  NVE CORP. (FORMERLY NONVOLATILE ELECTRONICS, INC.  \n",
       "\n",
       "[372 rows x 4 columns]"
      ]
     },
     "metadata": {},
     "output_type": "display_data"
    }
   ],
   "source": [
    "#Printing sample from the final output dataframe\n",
    "display(output_df)"
   ]
  },
  {
   "cell_type": "code",
   "execution_count": null,
   "id": "9fc01c57-c511-46e0-b845-18baa5221d20",
   "metadata": {},
   "outputs": [],
   "source": []
  }
 ],
 "metadata": {
  "kernelspec": {
   "display_name": "Python 3 (ipykernel)",
   "language": "python",
   "name": "python3"
  },
  "language_info": {
   "codemirror_mode": {
    "name": "ipython",
    "version": 3
   },
   "file_extension": ".py",
   "mimetype": "text/x-python",
   "name": "python",
   "nbconvert_exporter": "python",
   "pygments_lexer": "ipython3",
   "version": "3.8.2"
  }
 },
 "nbformat": 4,
 "nbformat_minor": 5
}
